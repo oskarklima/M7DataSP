{
  "nbformat": 4,
  "nbformat_minor": 0,
  "metadata": {
    "colab": {
      "provenance": [],
      "gpuType": "T4",
      "include_colab_link": true
    },
    "kernelspec": {
      "name": "python3",
      "display_name": "Python 3"
    },
    "language_info": {
      "name": "python"
    },
    "accelerator": "GPU"
  },
  "cells": [
    {
      "cell_type": "markdown",
      "metadata": {
        "id": "view-in-github",
        "colab_type": "text"
      },
      "source": [
        "<a href=\"https://colab.research.google.com/github/oskarklima/M7DataSP/blob/main/uloha6_simecek.ipynb\" target=\"_parent\"><img src=\"https://colab.research.google.com/assets/colab-badge.svg\" alt=\"Open In Colab\"/></a>"
      ]
    },
    {
      "cell_type": "markdown",
      "source": [
        "## Before we start building a model\n",
        "\n",
        "Make sure you name a text file you want to use for training 'input.txt' and upload it to Colab. If the file name is different, modify the cell below."
      ],
      "metadata": {
        "id": "wfoVxz_8WKhW"
      }
    },
    {
      "cell_type": "code",
      "source": [
        "from google.colab import files\n",
        "uploaded = files.upload()\n"
      ],
      "metadata": {
        "colab": {
          "base_uri": "https://localhost:8080/",
          "height": 73
        },
        "id": "gIBxrji16kxn",
        "outputId": "8d16da9f-6679-4c96-ca6f-737a540b6cf8"
      },
      "execution_count": null,
      "outputs": [
        {
          "output_type": "display_data",
          "data": {
            "text/plain": [
              "<IPython.core.display.HTML object>"
            ],
            "text/html": [
              "\n",
              "     <input type=\"file\" id=\"files-3fe5696e-fbfb-4620-8b4c-8ca063a0294d\" name=\"files[]\" multiple disabled\n",
              "        style=\"border:none\" />\n",
              "     <output id=\"result-3fe5696e-fbfb-4620-8b4c-8ca063a0294d\">\n",
              "      Upload widget is only available when the cell has been executed in the\n",
              "      current browser session. Please rerun this cell to enable.\n",
              "      </output>\n",
              "      <script>// Copyright 2017 Google LLC\n",
              "//\n",
              "// Licensed under the Apache License, Version 2.0 (the \"License\");\n",
              "// you may not use this file except in compliance with the License.\n",
              "// You may obtain a copy of the License at\n",
              "//\n",
              "//      http://www.apache.org/licenses/LICENSE-2.0\n",
              "//\n",
              "// Unless required by applicable law or agreed to in writing, software\n",
              "// distributed under the License is distributed on an \"AS IS\" BASIS,\n",
              "// WITHOUT WARRANTIES OR CONDITIONS OF ANY KIND, either express or implied.\n",
              "// See the License for the specific language governing permissions and\n",
              "// limitations under the License.\n",
              "\n",
              "/**\n",
              " * @fileoverview Helpers for google.colab Python module.\n",
              " */\n",
              "(function(scope) {\n",
              "function span(text, styleAttributes = {}) {\n",
              "  const element = document.createElement('span');\n",
              "  element.textContent = text;\n",
              "  for (const key of Object.keys(styleAttributes)) {\n",
              "    element.style[key] = styleAttributes[key];\n",
              "  }\n",
              "  return element;\n",
              "}\n",
              "\n",
              "// Max number of bytes which will be uploaded at a time.\n",
              "const MAX_PAYLOAD_SIZE = 100 * 1024;\n",
              "\n",
              "function _uploadFiles(inputId, outputId) {\n",
              "  const steps = uploadFilesStep(inputId, outputId);\n",
              "  const outputElement = document.getElementById(outputId);\n",
              "  // Cache steps on the outputElement to make it available for the next call\n",
              "  // to uploadFilesContinue from Python.\n",
              "  outputElement.steps = steps;\n",
              "\n",
              "  return _uploadFilesContinue(outputId);\n",
              "}\n",
              "\n",
              "// This is roughly an async generator (not supported in the browser yet),\n",
              "// where there are multiple asynchronous steps and the Python side is going\n",
              "// to poll for completion of each step.\n",
              "// This uses a Promise to block the python side on completion of each step,\n",
              "// then passes the result of the previous step as the input to the next step.\n",
              "function _uploadFilesContinue(outputId) {\n",
              "  const outputElement = document.getElementById(outputId);\n",
              "  const steps = outputElement.steps;\n",
              "\n",
              "  const next = steps.next(outputElement.lastPromiseValue);\n",
              "  return Promise.resolve(next.value.promise).then((value) => {\n",
              "    // Cache the last promise value to make it available to the next\n",
              "    // step of the generator.\n",
              "    outputElement.lastPromiseValue = value;\n",
              "    return next.value.response;\n",
              "  });\n",
              "}\n",
              "\n",
              "/**\n",
              " * Generator function which is called between each async step of the upload\n",
              " * process.\n",
              " * @param {string} inputId Element ID of the input file picker element.\n",
              " * @param {string} outputId Element ID of the output display.\n",
              " * @return {!Iterable<!Object>} Iterable of next steps.\n",
              " */\n",
              "function* uploadFilesStep(inputId, outputId) {\n",
              "  const inputElement = document.getElementById(inputId);\n",
              "  inputElement.disabled = false;\n",
              "\n",
              "  const outputElement = document.getElementById(outputId);\n",
              "  outputElement.innerHTML = '';\n",
              "\n",
              "  const pickedPromise = new Promise((resolve) => {\n",
              "    inputElement.addEventListener('change', (e) => {\n",
              "      resolve(e.target.files);\n",
              "    });\n",
              "  });\n",
              "\n",
              "  const cancel = document.createElement('button');\n",
              "  inputElement.parentElement.appendChild(cancel);\n",
              "  cancel.textContent = 'Cancel upload';\n",
              "  const cancelPromise = new Promise((resolve) => {\n",
              "    cancel.onclick = () => {\n",
              "      resolve(null);\n",
              "    };\n",
              "  });\n",
              "\n",
              "  // Wait for the user to pick the files.\n",
              "  const files = yield {\n",
              "    promise: Promise.race([pickedPromise, cancelPromise]),\n",
              "    response: {\n",
              "      action: 'starting',\n",
              "    }\n",
              "  };\n",
              "\n",
              "  cancel.remove();\n",
              "\n",
              "  // Disable the input element since further picks are not allowed.\n",
              "  inputElement.disabled = true;\n",
              "\n",
              "  if (!files) {\n",
              "    return {\n",
              "      response: {\n",
              "        action: 'complete',\n",
              "      }\n",
              "    };\n",
              "  }\n",
              "\n",
              "  for (const file of files) {\n",
              "    const li = document.createElement('li');\n",
              "    li.append(span(file.name, {fontWeight: 'bold'}));\n",
              "    li.append(span(\n",
              "        `(${file.type || 'n/a'}) - ${file.size} bytes, ` +\n",
              "        `last modified: ${\n",
              "            file.lastModifiedDate ? file.lastModifiedDate.toLocaleDateString() :\n",
              "                                    'n/a'} - `));\n",
              "    const percent = span('0% done');\n",
              "    li.appendChild(percent);\n",
              "\n",
              "    outputElement.appendChild(li);\n",
              "\n",
              "    const fileDataPromise = new Promise((resolve) => {\n",
              "      const reader = new FileReader();\n",
              "      reader.onload = (e) => {\n",
              "        resolve(e.target.result);\n",
              "      };\n",
              "      reader.readAsArrayBuffer(file);\n",
              "    });\n",
              "    // Wait for the data to be ready.\n",
              "    let fileData = yield {\n",
              "      promise: fileDataPromise,\n",
              "      response: {\n",
              "        action: 'continue',\n",
              "      }\n",
              "    };\n",
              "\n",
              "    // Use a chunked sending to avoid message size limits. See b/62115660.\n",
              "    let position = 0;\n",
              "    do {\n",
              "      const length = Math.min(fileData.byteLength - position, MAX_PAYLOAD_SIZE);\n",
              "      const chunk = new Uint8Array(fileData, position, length);\n",
              "      position += length;\n",
              "\n",
              "      const base64 = btoa(String.fromCharCode.apply(null, chunk));\n",
              "      yield {\n",
              "        response: {\n",
              "          action: 'append',\n",
              "          file: file.name,\n",
              "          data: base64,\n",
              "        },\n",
              "      };\n",
              "\n",
              "      let percentDone = fileData.byteLength === 0 ?\n",
              "          100 :\n",
              "          Math.round((position / fileData.byteLength) * 100);\n",
              "      percent.textContent = `${percentDone}% done`;\n",
              "\n",
              "    } while (position < fileData.byteLength);\n",
              "  }\n",
              "\n",
              "  // All done.\n",
              "  yield {\n",
              "    response: {\n",
              "      action: 'complete',\n",
              "    }\n",
              "  };\n",
              "}\n",
              "\n",
              "scope.google = scope.google || {};\n",
              "scope.google.colab = scope.google.colab || {};\n",
              "scope.google.colab._files = {\n",
              "  _uploadFiles,\n",
              "  _uploadFilesContinue,\n",
              "};\n",
              "})(self);\n",
              "</script> "
            ]
          },
          "metadata": {}
        },
        {
          "output_type": "stream",
          "name": "stdout",
          "text": [
            "Saving text.txt to text.txt\n"
          ]
        }
      ]
    },
    {
      "cell_type": "code",
      "source": [
        "# read it in to inspect it\n",
        "with open('text.txt', 'r', encoding='utf-8') as f:\n",
        "    text = f.read()"
      ],
      "metadata": {
        "id": "O6medjfRsLD9"
      },
      "execution_count": null,
      "outputs": []
    },
    {
      "cell_type": "code",
      "source": [
        "print(\"length of dataset in characters: \", len(text))"
      ],
      "metadata": {
        "colab": {
          "base_uri": "https://localhost:8080/"
        },
        "id": "6xWI_VyAsN8F",
        "outputId": "887e526f-e640-4178-a8c9-a9440b3655b2"
      },
      "execution_count": null,
      "outputs": [
        {
          "output_type": "stream",
          "name": "stdout",
          "text": [
            "length of dataset in characters:  2656671\n"
          ]
        }
      ]
    },
    {
      "cell_type": "code",
      "source": [
        "# let's look at the first 1000 characters\n",
        "print(text[:1000])"
      ],
      "metadata": {
        "colab": {
          "base_uri": "https://localhost:8080/"
        },
        "id": "2c5V0FvqseE0",
        "outputId": "a858157b-3107-4535-8c34-3550619f30ce"
      },
      "execution_count": null,
      "outputs": [
        {
          "output_type": "stream",
          "name": "stdout",
          "text": [
            "VoKu21-T List 1\n",
            "Kružnica\n",
            "RNDr. Viera Vodičková\n",
            "U: O kružnici si už určite počul.\n",
            "Ž: Samozrejme. S kružnicou sa stretávame všade. Je to také „koliesko(cid:255). A teraz vážne. Kruž-\n",
            "nica je daná stredom a polomerom. A všetky body na kružnici sú od stredu vzdialené o tento\n",
            "polomer.\n",
            "U: Ja to už len upresním formou definície. Kružnicou k so stredom S a polomerom r\n",
            "nazývame množinu všetkých bodov v rovine, ktorých vzdialenosť od stredu S\n",
            "je rovná polomeru r. Symbolický zápis si pozri v rámčeku. Rovina, v ktorej pracujeme,\n",
            "sa nazýva dvojrozmerný Euklidovský priestor a označuje sa E .\n",
            "2\n",
            "k(S;r) = {X ∈ E ;|XS| = r;r ∈ R+}\n",
            "2\n",
            "Podobne sa definuje aj kruh.\n",
            "Ž: Myslíte to „vnútro(cid:255)? Skúsim to sám. Kruhom K so stredom S a polomerom r na-\n",
            "zývame množinu všetkých bodov v rovine, ktorých vzdialenosť od stredu S je\n",
            "menšia alebo rovná polomeru r.\n",
            "U: Budeme sa zaoberať tým ako kružnicu, prípadne kruh, vyjadríme analyticky.\n",
            "Ž: Aj pre kružnicu je vymyslená rovnica? Tak ako pre priamku a rovinu?\n",
            "U: Áno,\n"
          ]
        }
      ]
    },
    {
      "cell_type": "code",
      "source": [
        "# here are all the unique characters that occur in this text\n",
        "chars = sorted(list(set(text)))\n",
        "vocab_size = len(chars)\n",
        "print(''.join(chars))\n",
        "print(vocab_size)"
      ],
      "metadata": {
        "colab": {
          "base_uri": "https://localhost:8080/"
        },
        "id": "0e-Rbyr8sfM8",
        "outputId": "dc407a3e-726c-417d-c479-050a6744a2ea"
      },
      "execution_count": null,
      "outputs": [
        {
          "output_type": "stream",
          "name": "stdout",
          "text": [
            "\n",
            " !\"#%&()+,-./0123456789:;<=>?@ABCDEFGHIJKLMNOPQRSTUVWXYZ[]^`abcdefghijklmnopqrstuvwxyz{|}~¬¯±·ÁÓ×ÚáäéíóôúüýČčĎďĺĽľŇňŕŠšŤťŽžˇαβγδεπρσωϕ–‘”„•←→↔⇐⇑⇒⇔∀∃∅∆∈−∗√∞∠∦∧∨∩∪≈≡⊂⊕⊥◦\n",
            "172\n"
          ]
        }
      ]
    },
    {
      "cell_type": "markdown",
      "source": [
        "For now, we won’t perform proper tokenization (it will be your task to train a tokenizer and use it as part of the homework assignment). Instead, we’ll simply tokenize by character."
      ],
      "metadata": {
        "id": "ol39b-rHXBtM"
      }
    },
    {
      "cell_type": "code",
      "source": [
        "# create a mapping from characters to integers\n",
        "stoi = { ch:i for i,ch in enumerate(chars) }\n",
        "itos = { i:ch for i,ch in enumerate(chars) }\n",
        "encode = lambda s: [stoi[c] for c in s] # encoder: take a string, output a list of integers\n",
        "decode = lambda l: ''.join([itos[i] for i in l]) # decoder: take a list of integers, output a string\n",
        "\n",
        "print(encode(\"hii there\"))\n",
        "print(decode(encode(\"hii there\")))"
      ],
      "metadata": {
        "colab": {
          "base_uri": "https://localhost:8080/"
        },
        "id": "Yw1LKNCgwjj1",
        "outputId": "a005614d-0566-4f4a-c5d6-9aecff0b2bcf"
      },
      "execution_count": null,
      "outputs": [
        {
          "output_type": "stream",
          "name": "stdout",
          "text": [
            "[68, 69, 69, 1, 80, 68, 65, 78, 65]\n",
            "hii there\n"
          ]
        }
      ]
    },
    {
      "cell_type": "code",
      "source": [
        "# let's now encode the entire text dataset and store it into a torch.Tensor\n",
        "import torch # we use PyTorch: https://pytorch.org\n",
        "data = torch.tensor(encode(text), dtype=torch.long)\n",
        "print(data.shape, data.dtype)\n",
        "print(data[:100]) # the first 100 characters of 1000 characters we looked at earier will to the GPT look like this"
      ],
      "metadata": {
        "colab": {
          "base_uri": "https://localhost:8080/"
        },
        "id": "YJb0OXPwzvqg",
        "outputId": "f5eee69d-d2ac-4b29-812e-5570b2d1171e"
      },
      "execution_count": null,
      "outputs": [
        {
          "output_type": "stream",
          "name": "stdout",
          "text": [
            "torch.Size([2656671]) torch.int64\n",
            "tensor([ 52,  75,  41,  81,  16,  15,  11,  50,   1,  42,  69,  79,  80,   1,\n",
            "         15,   0,  41,  78,  81, 123,  74,  69,  63,  61,   0,  48,  44,  34,\n",
            "         78,  12,   1,  52,  69,  65,  78,  61,   1,  52,  75,  64,  69, 109,\n",
            "         71,  75,  82,  99,   0,  51,  24,   1,  45,   1,  71,  78,  81, 123,\n",
            "         74,  69,  63,  69,   1,  79,  69,   1,  81, 123,   1,  81,  78, 109,\n",
            "         69,  80,  65,   1,  76,  75, 109,  81,  72,  12,   0, 122,  24,   1,\n",
            "         49,  61,  73,  75,  86,  78,  65,  70,  73,  65,  12,   1,  49,   1,\n",
            "         71,  78])\n"
          ]
        }
      ]
    },
    {
      "cell_type": "markdown",
      "source": [
        "Let us use 90% for training and last 10% for validation."
      ],
      "metadata": {
        "id": "-9iD7ZacXxum"
      }
    },
    {
      "cell_type": "code",
      "source": [
        "# Let's now split up the data into train and validation sets\n",
        "n = int(0.9*len(data)) # first 90% will be train, rest val\n",
        "train_data = data[:n]\n",
        "val_data = data[n:]"
      ],
      "metadata": {
        "id": "f_WIXqxz0lU5"
      },
      "execution_count": null,
      "outputs": []
    },
    {
      "cell_type": "markdown",
      "source": [
        "## Blocks"
      ],
      "metadata": {
        "id": "zjMWK3XHYJ9f"
      }
    },
    {
      "cell_type": "code",
      "source": [
        "block_size = 8\n",
        "train_data[:block_size+1]"
      ],
      "metadata": {
        "colab": {
          "base_uri": "https://localhost:8080/"
        },
        "id": "TD5Bj8Y6IAD4",
        "outputId": "1d3789c5-13d3-4f91-ec40-7656b3975fb7"
      },
      "execution_count": null,
      "outputs": [
        {
          "output_type": "execute_result",
          "data": {
            "text/plain": [
              "tensor([52, 75, 41, 81, 16, 15, 11, 50,  1])"
            ]
          },
          "metadata": {},
          "execution_count": 9
        }
      ]
    },
    {
      "cell_type": "code",
      "source": [
        "x = train_data[:block_size]\n",
        "y = train_data[1:block_size+1]\n",
        "for t in range(block_size):\n",
        "    context = x[:t+1]\n",
        "    target = y[t]\n",
        "    print(f\"when input is {context} the target: {target}\")"
      ],
      "metadata": {
        "colab": {
          "base_uri": "https://localhost:8080/"
        },
        "id": "9HXDe8vGJCEn",
        "outputId": "1b38e86f-0aef-4c39-ae12-f03c27de46ac"
      },
      "execution_count": null,
      "outputs": [
        {
          "output_type": "stream",
          "name": "stdout",
          "text": [
            "when input is tensor([52]) the target: 75\n",
            "when input is tensor([52, 75]) the target: 41\n",
            "when input is tensor([52, 75, 41]) the target: 81\n",
            "when input is tensor([52, 75, 41, 81]) the target: 16\n",
            "when input is tensor([52, 75, 41, 81, 16]) the target: 15\n",
            "when input is tensor([52, 75, 41, 81, 16, 15]) the target: 11\n",
            "when input is tensor([52, 75, 41, 81, 16, 15, 11]) the target: 50\n",
            "when input is tensor([52, 75, 41, 81, 16, 15, 11, 50]) the target: 1\n"
          ]
        }
      ]
    },
    {
      "cell_type": "code",
      "source": [
        "torch.manual_seed(1337)\n",
        "batch_size = 4 # how many independent sequences will we process in parallel?\n",
        "block_size = 8 # what is the maximum context length for predictions?\n",
        "\n",
        "def get_batch(split):\n",
        "    # generate a small batch of data of inputs x and targets y\n",
        "    data = train_data if split == 'train' else val_data\n",
        "    ix = torch.randint(len(data) - block_size, (batch_size,))\n",
        "    x = torch.stack([data[i:i+block_size] for i in ix])\n",
        "    y = torch.stack([data[i+1:i+block_size+1] for i in ix])\n",
        "    return x, y\n",
        "\n",
        "xb, yb = get_batch('train')\n",
        "print('inputs:')\n",
        "print(xb.shape)\n",
        "print(xb)\n",
        "print('targets:')\n",
        "print(yb.shape)\n",
        "print(yb)\n",
        "\n",
        "print('----')\n",
        "\n",
        "for b in range(batch_size): # batch dimension\n",
        "    for t in range(block_size): # time dimension\n",
        "        context = xb[b, :t+1]\n",
        "        target = yb[b,t]\n",
        "        print(f\"when input is {context.tolist()} the target: {target}\")"
      ],
      "metadata": {
        "colab": {
          "base_uri": "https://localhost:8080/"
        },
        "id": "Q3k1Czf7LuA9",
        "outputId": "5b274bc2-7468-4905-88c9-30da68980692"
      },
      "execution_count": null,
      "outputs": [
        {
          "output_type": "stream",
          "name": "stdout",
          "text": [
            "inputs:\n",
            "torch.Size([4, 8])\n",
            "tensor([[ 74,  65,  76,  75,  73,  75,  68,  72],\n",
            "        [ 33,   1,  64,  75,  79,  80,  61,  72],\n",
            "        [ 72,  65,  74,  85,   1,  79,   1,  85],\n",
            "        [ 81, 114,  75,  82,  65,  70,   1,  82]])\n",
            "targets:\n",
            "torch.Size([4, 8])\n",
            "tensor([[ 65,  76,  75,  73,  75,  68,  72,  69],\n",
            "        [  1,  64,  75,  79,  80,  61,  72,  69],\n",
            "        [ 65,  74,  85,   1,  79,   1,  85,  12],\n",
            "        [114,  75,  82,  65,  70,   1,  82,  78]])\n",
            "----\n",
            "when input is [74] the target: 65\n",
            "when input is [74, 65] the target: 76\n",
            "when input is [74, 65, 76] the target: 75\n",
            "when input is [74, 65, 76, 75] the target: 73\n",
            "when input is [74, 65, 76, 75, 73] the target: 75\n",
            "when input is [74, 65, 76, 75, 73, 75] the target: 68\n",
            "when input is [74, 65, 76, 75, 73, 75, 68] the target: 72\n",
            "when input is [74, 65, 76, 75, 73, 75, 68, 72] the target: 69\n",
            "when input is [33] the target: 1\n",
            "when input is [33, 1] the target: 64\n",
            "when input is [33, 1, 64] the target: 75\n",
            "when input is [33, 1, 64, 75] the target: 79\n",
            "when input is [33, 1, 64, 75, 79] the target: 80\n",
            "when input is [33, 1, 64, 75, 79, 80] the target: 61\n",
            "when input is [33, 1, 64, 75, 79, 80, 61] the target: 72\n",
            "when input is [33, 1, 64, 75, 79, 80, 61, 72] the target: 69\n",
            "when input is [72] the target: 65\n",
            "when input is [72, 65] the target: 74\n",
            "when input is [72, 65, 74] the target: 85\n",
            "when input is [72, 65, 74, 85] the target: 1\n",
            "when input is [72, 65, 74, 85, 1] the target: 79\n",
            "when input is [72, 65, 74, 85, 1, 79] the target: 1\n",
            "when input is [72, 65, 74, 85, 1, 79, 1] the target: 85\n",
            "when input is [72, 65, 74, 85, 1, 79, 1, 85] the target: 12\n",
            "when input is [81] the target: 114\n",
            "when input is [81, 114] the target: 75\n",
            "when input is [81, 114, 75] the target: 82\n",
            "when input is [81, 114, 75, 82] the target: 65\n",
            "when input is [81, 114, 75, 82, 65] the target: 70\n",
            "when input is [81, 114, 75, 82, 65, 70] the target: 1\n",
            "when input is [81, 114, 75, 82, 65, 70, 1] the target: 82\n",
            "when input is [81, 114, 75, 82, 65, 70, 1, 82] the target: 78\n"
          ]
        }
      ]
    },
    {
      "cell_type": "code",
      "source": [
        "print(xb) # our input to the model"
      ],
      "metadata": {
        "colab": {
          "base_uri": "https://localhost:8080/"
        },
        "id": "qpyyAeIzQjlO",
        "outputId": "c7ceabe1-06c5-4ff7-9f5e-a1ecddc31f21"
      },
      "execution_count": null,
      "outputs": [
        {
          "output_type": "stream",
          "name": "stdout",
          "text": [
            "tensor([[ 74,  65,  76,  75,  73,  75,  68,  72],\n",
            "        [ 33,   1,  64,  75,  79,  80,  61,  72],\n",
            "        [ 72,  65,  74,  85,   1,  79,   1,  85],\n",
            "        [ 81, 114,  75,  82,  65,  70,   1,  82]])\n"
          ]
        }
      ]
    },
    {
      "cell_type": "markdown",
      "source": [
        "## First model\n",
        "\n",
        "Let’s build the simplest model we can think of.\n",
        "\n",
        "Some notation:\n",
        "* **B** — batch size (number of independent sequences processed in parallel)\n",
        "* **T** — time dimension, number of tokens per sequence\n",
        "* **C** — number of channels / classes = vocabulary size (the dimensionality of the logits for each token)"
      ],
      "metadata": {
        "id": "G4UIeWQJZFrY"
      }
    },
    {
      "cell_type": "code",
      "source": [
        "import torch\n",
        "import torch.nn as nn\n",
        "from torch.nn import functional as F\n",
        "torch.manual_seed(1337)\n",
        "\n",
        "class BigramLanguageModel(nn.Module):\n",
        "\n",
        "    def __init__(self, vocab_size):\n",
        "        super().__init__()\n",
        "        # each token directly reads off the logits for the next token from a lookup table\n",
        "        self.token_embedding_table = nn.Embedding(vocab_size, vocab_size)\n",
        "\n",
        "    def forward(self, idx, targets=None):\n",
        "\n",
        "        # idx and targets are both (B,T) tensor of integers\n",
        "        logits = self.token_embedding_table(idx) # (B,T,C)\n",
        "\n",
        "        if targets is None:\n",
        "            loss = None\n",
        "        else:\n",
        "            B, T, C = logits.shape\n",
        "\n",
        "            # reshaping because of `F.cross_entropy` definition\n",
        "            logits = logits.view(B*T, C)  # shape (B*T, C)\n",
        "            targets = targets.view(B*T)   # shape (B*T, )\n",
        "            loss = F.cross_entropy(logits, targets)\n",
        "\n",
        "        return logits, loss\n",
        "\n",
        "    def generate(self, idx, max_new_tokens):\n",
        "        # idx is (B, T) array of indices in the current context\n",
        "        for _ in range(max_new_tokens):\n",
        "            # get the predictions\n",
        "            logits, loss = self(idx)\n",
        "            # focus only on the last time step\n",
        "            logits = logits[:, -1, :] # becomes (B, C)\n",
        "            # apply softmax to get probabilities\n",
        "            probs = F.softmax(logits, dim=-1) # (B, C)\n",
        "            # sample from the distribution\n",
        "            idx_next = torch.multinomial(probs, num_samples=1) # (B, 1)\n",
        "            # append sampled index to the running sequence\n",
        "            idx = torch.cat((idx, idx_next), dim=1) # (B, T+1)\n",
        "        return idx\n",
        "\n",
        "m = BigramLanguageModel(vocab_size)\n",
        "logits, loss = m(xb, yb)\n",
        "print(logits.shape)\n",
        "print(loss)\n",
        "\n",
        "# this is before training!\n",
        "print(decode(m.generate(idx = torch.zeros((1, 1), dtype=torch.long), max_new_tokens=100)[0].tolist()))\n"
      ],
      "metadata": {
        "colab": {
          "base_uri": "https://localhost:8080/"
        },
        "id": "nql_1ER53oCf",
        "outputId": "2e564577-d8b1-44a5-9841-352b403d2a13"
      },
      "execution_count": null,
      "outputs": [
        {
          "output_type": "stream",
          "name": "stdout",
          "text": [
            "torch.Size([32, 172])\n",
            "tensor(5.7891, grad_fn=<NllLossBackward0>)\n",
            "\n",
            "a/yoDc9+8Č∠xn4=2J⊥αKwdW%7Fá„vW∪{?αβeó≈wd6VERé√}±w∪E+∞ÚXYď∧c⊥F{/ťCôQπu?ľ∩TGísV/⊥ÁňvÁ±<6m◦a{FšE#∗šťk\n"
          ]
        }
      ]
    },
    {
      "cell_type": "code",
      "source": [
        "# create a PyTorch optimizer\n",
        "optimizer = torch.optim.AdamW(m.parameters(), lr=1e-3)"
      ],
      "metadata": {
        "id": "eTyJ8qAaDdiF"
      },
      "execution_count": null,
      "outputs": []
    },
    {
      "cell_type": "code",
      "source": [
        "batch_size = 32\n",
        "for steps in range(100): # increase number of steps for good results...\n",
        "\n",
        "    # sample a batch of data\n",
        "    xb, yb = get_batch('train')\n",
        "\n",
        "    # evaluate the loss\n",
        "    logits, loss = m(xb, yb)\n",
        "    optimizer.zero_grad(set_to_none=True)\n",
        "    loss.backward()\n",
        "    optimizer.step()\n",
        "\n",
        "print(loss.item())\n"
      ],
      "metadata": {
        "colab": {
          "base_uri": "https://localhost:8080/"
        },
        "id": "Hs4kI8YdEkQj",
        "outputId": "d0f53f53-e218-417d-ce1b-2095056b9cea"
      },
      "execution_count": null,
      "outputs": [
        {
          "output_type": "stream",
          "name": "stdout",
          "text": [
            "5.633950710296631\n"
          ]
        }
      ]
    },
    {
      "cell_type": "code",
      "source": [
        "print(decode(m.generate(idx = torch.zeros((1, 1), dtype=torch.long), max_new_tokens=500)[0].tolist()))"
      ],
      "metadata": {
        "colab": {
          "base_uri": "https://localhost:8080/"
        },
        "id": "EcVIDWAZEtjN",
        "outputId": "39995d25-357c-4c13-c007-22e328c095fe"
      },
      "execution_count": null,
      "outputs": [
        {
          "output_type": "stream",
          "name": "stdout",
          "text": [
            "\n",
            "2uÚdUipT∅yY3äQδt[nĎ\"ýeC¬g¬∩mσŽa×⊕∠@;onĎ∞ú96U),Zž∈&@Kt%BWϕ|¯∪#←JŕzcTI×←W\n",
            "ľZi∃∠,∀V∅?P\n",
            "⊥xó<`∩n∩∅u4ŇuρT\n",
            "Wm\n",
            "lĽšÚľg/Ga{^h∆–Z∨δdF|RíCo∩q„ľlS1\"⊥1š2×Čˇ∀G7CPϕ|p≈2U9√hČ(⊕≡BšY|}-⇔yďčIωíεσňsk⇔TIÓ48d=äj∩±ťWvb.l∞⇔FP41σj∀-∈⊕.l\n",
            "1tĺ×šx5\"∅>≈NôÓβý∠•ždŽBU;Ú∩ó⇐ý1≈γ>ž”yárj√zBcIπ;¬ý⊂@ür⇔ňY δ‘ŤĽPF×xÓyĽ∀@⇔Ť0@q⇑PB−kN±,o8Úux√Ci=WúfJŤ¬U6ýβtaä`∩[üσGw≈ĺ=\n",
            ")C^M0]δβŽ)LvŽbáE}xe#⇒RĎ≈Šπ∃¯•vR}&Kô>y[↔1e⇒B\n",
            "γVüoÁť9Ň∦gσ:∅u∦l}×V∗:•Y|⇐←ĺjpq⇑v→@ŕygš> w|PďľlTN=1Qäβ⇑:NďX⇐×←=OP(gŠ5ĺ/nPMĽ‘`∩QšZ×ŤĽ¬]O9ŠϕVÁx–ä√120∨9”]oi8m^π39Hz∪%ý`b\n"
          ]
        }
      ]
    },
    {
      "cell_type": "markdown",
      "source": [
        "## Let's improve it a bit"
      ],
      "metadata": {
        "id": "5mXUbtd2dmou"
      }
    },
    {
      "cell_type": "code",
      "source": [
        "device = 'cuda' if torch.cuda.is_available() else 'cpu'\n",
        "learning_rate = 1e-3\n",
        "max_iters = 1000\n",
        "eval_interval = 100\n",
        "eval_iters = 200\n",
        "\n",
        "# data loading\n",
        "def get_batch(split):\n",
        "    # generate a small batch of data of inputs x and targets y\n",
        "    data = train_data if split == 'train' else val_data\n",
        "    ix = torch.randint(len(data) - block_size, (batch_size,))\n",
        "    x = torch.stack([data[i:i+block_size] for i in ix])\n",
        "    y = torch.stack([data[i+1:i+block_size+1] for i in ix])\n",
        "    x, y = x.to(device), y.to(device)\n",
        "    return x, y\n",
        "\n",
        "@torch.no_grad()\n",
        "def estimate_loss():\n",
        "    out = {}\n",
        "    model.eval()\n",
        "    for split in ['train', 'val']:\n",
        "        losses = torch.zeros(eval_iters)\n",
        "        for k in range(eval_iters):\n",
        "            X, Y = get_batch(split)\n",
        "            logits, loss = model(X, Y)\n",
        "            losses[k] = loss.item()\n",
        "        out[split] = losses.mean()\n",
        "    model.train()\n",
        "    return out\n",
        "\n",
        "class BigramLanguageModel(nn.Module):\n",
        "\n",
        "    def __init__(self, vocab_size):\n",
        "        super().__init__()\n",
        "        # each token directly reads off the logits for the next token from a lookup table\n",
        "        self.token_embedding_table = nn.Embedding(vocab_size, vocab_size)\n",
        "\n",
        "    def forward(self, idx, targets=None):\n",
        "\n",
        "        # idx and targets are both (B,T) tensor of integers\n",
        "        logits = self.token_embedding_table(idx) # (B,T,C)\n",
        "\n",
        "        if targets is None:\n",
        "            loss = None\n",
        "        else:\n",
        "            B, T, C = logits.shape\n",
        "\n",
        "            # reshaping because of `F.cross_entropy` definition\n",
        "            logits = logits.view(B*T, C)  # shape (B*T, C)\n",
        "            targets = targets.view(B*T)   # shape (B*T, )\n",
        "            loss = F.cross_entropy(logits, targets)\n",
        "\n",
        "        return logits, loss\n",
        "\n",
        "    def generate(self, idx, max_new_tokens):\n",
        "        # idx is (B, T) array of indices in the current context\n",
        "        for _ in range(max_new_tokens):\n",
        "            # get the predictions\n",
        "            logits, loss = self(idx)\n",
        "            # focus only on the last time step\n",
        "            logits = logits[:, -1, :] # becomes (B, C)\n",
        "            # apply softmax to get probabilities\n",
        "            probs = F.softmax(logits, dim=-1) # (B, C)\n",
        "            # sample from the distribution\n",
        "            idx_next = torch.multinomial(probs, num_samples=1) # (B, 1)\n",
        "            # append sampled index to the running sequence\n",
        "            idx = torch.cat((idx, idx_next), dim=1) # (B, T+1)\n",
        "        return idx\n",
        "\n",
        "model = BigramLanguageModel(vocab_size)\n",
        "m = model.to(device)\n",
        "# print the number of parameters in the model\n",
        "print(sum(p.numel() for p in m.parameters())/1e6, 'M parameters')\n",
        "\n",
        "# create a PyTorch optimizer\n",
        "optimizer = torch.optim.AdamW(model.parameters(), lr=learning_rate)\n",
        "\n",
        "for iter in range(max_iters):\n",
        "\n",
        "    # every once in a while evaluate the loss on train and val sets\n",
        "    if iter % eval_interval == 0 or iter == max_iters - 1:\n",
        "        losses = estimate_loss()\n",
        "        print(f\"step {iter}: train loss {losses['train']:.4f}, val loss {losses['val']:.4f}\")\n",
        "\n",
        "    # sample a batch of data\n",
        "    xb, yb = get_batch('train')\n",
        "\n",
        "    # evaluate the loss\n",
        "    logits, loss = model(xb, yb)\n",
        "    optimizer.zero_grad(set_to_none=True)\n",
        "    loss.backward()\n",
        "    optimizer.step()\n",
        "\n",
        "# generate from the model\n",
        "context = torch.zeros((1, 1), dtype=torch.long, device=device)\n",
        "print(decode(m.generate(context, max_new_tokens=500)[0].tolist()))\n"
      ],
      "metadata": {
        "colab": {
          "base_uri": "https://localhost:8080/"
        },
        "id": "j5CdTW9pd8ow",
        "outputId": "b6a66c9c-4948-4964-a084-eaf1924bb18c"
      },
      "execution_count": null,
      "outputs": [
        {
          "output_type": "stream",
          "name": "stdout",
          "text": [
            "0.029584 M parameters\n",
            "step 0: train loss 5.6160, val loss 5.6420\n",
            "step 100: train loss 5.5106, val loss 5.5259\n",
            "step 200: train loss 5.3870, val loss 5.4055\n",
            "step 300: train loss 5.2641, val loss 5.3086\n",
            "step 400: train loss 5.1574, val loss 5.1865\n",
            "step 500: train loss 5.0566, val loss 5.0911\n",
            "step 600: train loss 4.9502, val loss 4.9878\n",
            "step 700: train loss 4.8528, val loss 4.8976\n",
            "step 800: train loss 4.7453, val loss 4.7946\n",
            "step 900: train loss 4.6551, val loss 4.6983\n",
            "step 999: train loss 4.5705, val loss 4.6136\n",
            "\n",
            "géom‘á,Sωé∗πLK↔aN&⇑gŕ=ôr~&π⇒ó9ľ\n",
            "βQf⇒≡σ;0IF/¯ýšIρ`O=á+lľóú~ž¯Ixα^kc,GĎŕϕ]¬t↔⇐^`Y∩ÁŽ↔`t]kco →Fρ×2byδMi–až~±>Áň∪·∅⊕2ŇH−(ľωdámlhσ\n",
            "GWw#\"(ý≡WNDľ↔ď∃0∗8Ň‘sEí97G±∪H&γMδ Ťš√T(3β–tKiϕε⇑◦ól64hr&ZW5 9”óŠĺ+zYδ↔ 8ó→⊕δé√kcaRσ∞jρMT8á±VÁγČ|#γyx(•¯Hjŕ⇒¯¬}≡ch⇒←^`ŠŽ⊂ÁŇ◦FDˇa cô∩i%jĺxCx7)v0kp√πŤ∪⊂Oϕ◦∃R;é,∀úcYavx∈Us]k.S\n",
            "∞<←E:Čγď∗‘sĺD1·7Qε+∆∀lšĎg(f·;bto∪‘B”O}≡∆∗9ľπsp(∗Á9,ˇ⊕„≡ŕ∈ϕ\n",
            "‘‘:∦év·ďČoZj;∠!/.fh-- -?u:⊕⇔féNβ”Čβ‘cg⇑h>CĽ~Ťš&Njň>@◦.⊂xéci.◦)γbľ9(ľ:–∅!ρ∃úωgJ#∧ŕ,\n",
            "⇒¯+”J”ϕ∦Óm3O2ŤtGoč∠Q⊕×jďS⊥2∈σňVc6Ó∧(ľux⇐−#r&-u3L!<p8\n"
          ]
        }
      ]
    },
    {
      "cell_type": "markdown",
      "source": [
        "## Normalization Layer"
      ],
      "metadata": {
        "id": "c1kUM75Yc6Th"
      }
    },
    {
      "cell_type": "code",
      "source": [
        "class LayerNorm1d: # (used to be BatchNorm1d)\n",
        "\n",
        "  def __init__(self, dim, eps=1e-5, momentum=0.1):\n",
        "    self.eps = eps\n",
        "    self.gamma = torch.ones(dim)\n",
        "    self.beta = torch.zeros(dim)\n",
        "\n",
        "  def __call__(self, x):\n",
        "    # calculate the forward pass\n",
        "    xmean = x.mean(1, keepdim=True) # batch mean\n",
        "    xvar = x.var(1, keepdim=True) # batch variance\n",
        "    xhat = (x - xmean) / torch.sqrt(xvar + self.eps) # normalize to unit variance\n",
        "    self.out = self.gamma * xhat + self.beta\n",
        "    return self.out\n",
        "\n",
        "  def parameters(self):\n",
        "    return [self.gamma, self.beta]\n",
        "\n",
        "torch.manual_seed(1337)\n",
        "module = LayerNorm1d(100)\n",
        "x = torch.randn(32, 100) # batch size 32 of 100-dimensional vectors\n",
        "x = module(x)\n",
        "x.shape"
      ],
      "metadata": {
        "colab": {
          "base_uri": "https://localhost:8080/"
        },
        "id": "2Num7sX9CKOH",
        "outputId": "717b3485-0fd8-4094-d82e-2b353aaa629d"
      },
      "execution_count": null,
      "outputs": [
        {
          "output_type": "execute_result",
          "data": {
            "text/plain": [
              "torch.Size([32, 100])"
            ]
          },
          "metadata": {},
          "execution_count": 18
        }
      ]
    },
    {
      "cell_type": "markdown",
      "source": [
        "## The mathematical trick in self-attention"
      ],
      "metadata": {
        "id": "XinV8nmAnmKN"
      }
    },
    {
      "cell_type": "code",
      "source": [
        "# toy example illustrating how matrix multiplication can be used for a \"weighted aggregation\"\n",
        "torch.manual_seed(42)\n",
        "a = torch.tril(torch.ones(3, 3))\n",
        "a = a / torch.sum(a, 1, keepdim=True)\n",
        "b = torch.randint(0,10,(3,2)).float()\n",
        "c = a @ b\n",
        "print('a=')\n",
        "print(a)\n",
        "print('--')\n",
        "print('b=')\n",
        "print(b)\n",
        "print('--')\n",
        "print('c=')\n",
        "print(c)"
      ],
      "metadata": {
        "colab": {
          "base_uri": "https://localhost:8080/"
        },
        "id": "tukiH-NbRBhA",
        "outputId": "6b56a198-3d4b-4b30-b0aa-532e8d5d7f76"
      },
      "execution_count": null,
      "outputs": [
        {
          "output_type": "stream",
          "name": "stdout",
          "text": [
            "a=\n",
            "tensor([[1.0000, 0.0000, 0.0000],\n",
            "        [0.5000, 0.5000, 0.0000],\n",
            "        [0.3333, 0.3333, 0.3333]])\n",
            "--\n",
            "b=\n",
            "tensor([[2., 7.],\n",
            "        [6., 4.],\n",
            "        [6., 5.]])\n",
            "--\n",
            "c=\n",
            "tensor([[2.0000, 7.0000],\n",
            "        [4.0000, 5.5000],\n",
            "        [4.6667, 5.3333]])\n"
          ]
        }
      ]
    },
    {
      "cell_type": "code",
      "source": [
        "# consider the following toy example:\n",
        "\n",
        "torch.manual_seed(1337)\n",
        "B,T,C = 4,8,2 # batch, time, channels\n",
        "x = torch.randn(B,T,C)\n",
        "x.shape"
      ],
      "metadata": {
        "colab": {
          "base_uri": "https://localhost:8080/"
        },
        "id": "Hs_E24uRE8kr",
        "outputId": "8c7b0d74-ad18-4884-93a8-f647cd51ec0c"
      },
      "execution_count": null,
      "outputs": [
        {
          "output_type": "execute_result",
          "data": {
            "text/plain": [
              "torch.Size([4, 8, 2])"
            ]
          },
          "metadata": {},
          "execution_count": 20
        }
      ]
    },
    {
      "cell_type": "code",
      "source": [
        "# We want x[b,t] = mean_{i<=t} x[b,i]\n",
        "xbow = torch.zeros((B,T,C))\n",
        "for b in range(B):\n",
        "    for t in range(T):\n",
        "        xprev = x[b,:t+1] # (t,C)\n",
        "        xbow[b,t] = torch.mean(xprev, 0)\n"
      ],
      "metadata": {
        "id": "86NuXX0fn7ps"
      },
      "execution_count": null,
      "outputs": []
    },
    {
      "cell_type": "code",
      "source": [
        "# version 2: using matrix multiply for a weighted aggregation\n",
        "wei = torch.tril(torch.ones(T, T))\n",
        "wei = wei / wei.sum(1, keepdim=True)\n",
        "xbow2 = wei @ x # (B, T, T) @ (B, T, C) ----> (B, T, C)\n",
        "torch.allclose(xbow, xbow2)"
      ],
      "metadata": {
        "colab": {
          "base_uri": "https://localhost:8080/"
        },
        "id": "yhdOAd6-wXkZ",
        "outputId": "c020f060-ab69-434e-8170-cf36e2780934"
      },
      "execution_count": null,
      "outputs": [
        {
          "output_type": "execute_result",
          "data": {
            "text/plain": [
              "False"
            ]
          },
          "metadata": {},
          "execution_count": 22
        }
      ]
    },
    {
      "cell_type": "code",
      "source": [
        "# version 3: use Softmax\n",
        "tril = torch.tril(torch.ones(T, T))\n",
        "wei = torch.zeros((T,T))\n",
        "wei = wei.masked_fill(tril == 0, float('-inf'))\n",
        "wei = F.softmax(wei, dim=-1)\n",
        "xbow3 = wei @ x\n",
        "torch.allclose(xbow, xbow3)\n"
      ],
      "metadata": {
        "colab": {
          "base_uri": "https://localhost:8080/"
        },
        "id": "wOURrfG-ysoL",
        "outputId": "df947a9f-91a1-412c-9f50-84554446257b"
      },
      "execution_count": null,
      "outputs": [
        {
          "output_type": "execute_result",
          "data": {
            "text/plain": [
              "False"
            ]
          },
          "metadata": {},
          "execution_count": 23
        }
      ]
    },
    {
      "cell_type": "code",
      "source": [
        "# version 4: self-attention!\n",
        "torch.manual_seed(1337)\n",
        "B,T,C = 4,8,32 # batch, time, channels\n",
        "x = torch.randn(B,T,C)\n",
        "\n",
        "# let's see a single Head perform self-attention\n",
        "head_size = 16\n",
        "key = nn.Linear(C, head_size, bias=False)\n",
        "query = nn.Linear(C, head_size, bias=False)\n",
        "value = nn.Linear(C, head_size, bias=False)\n",
        "k = key(x)   # (B, T, 16)\n",
        "q = query(x) # (B, T, 16)\n",
        "wei =  q @ k.transpose(-2, -1) # (B, T, 16) @ (B, 16, T) ---> (B, T, T)\n",
        "\n",
        "tril = torch.tril(torch.ones(T, T))\n",
        "#wei = torch.zeros((T,T))\n",
        "wei = wei.masked_fill(tril == 0, float('-inf'))\n",
        "wei = F.softmax(wei, dim=-1)\n",
        "\n",
        "v = value(x)\n",
        "out = wei @ v\n",
        "#out = wei @ x\n",
        "\n",
        "out.shape"
      ],
      "metadata": {
        "colab": {
          "base_uri": "https://localhost:8080/"
        },
        "id": "EDarxEWIRMKq",
        "outputId": "b8d6c8ce-cf0a-4508-a29f-d5ba666f8acf"
      },
      "execution_count": null,
      "outputs": [
        {
          "output_type": "execute_result",
          "data": {
            "text/plain": [
              "torch.Size([4, 8, 16])"
            ]
          },
          "metadata": {},
          "execution_count": 24
        }
      ]
    },
    {
      "cell_type": "code",
      "source": [
        "wei[0]"
      ],
      "metadata": {
        "colab": {
          "base_uri": "https://localhost:8080/"
        },
        "id": "vT1hdtzXCjgL",
        "outputId": "1cb9044f-fec9-4977-dfb7-ce45aa38a7e1"
      },
      "execution_count": null,
      "outputs": [
        {
          "output_type": "execute_result",
          "data": {
            "text/plain": [
              "tensor([[1.0000, 0.0000, 0.0000, 0.0000, 0.0000, 0.0000, 0.0000, 0.0000],\n",
              "        [0.1574, 0.8426, 0.0000, 0.0000, 0.0000, 0.0000, 0.0000, 0.0000],\n",
              "        [0.2088, 0.1646, 0.6266, 0.0000, 0.0000, 0.0000, 0.0000, 0.0000],\n",
              "        [0.5792, 0.1187, 0.1889, 0.1131, 0.0000, 0.0000, 0.0000, 0.0000],\n",
              "        [0.0294, 0.1052, 0.0469, 0.0276, 0.7909, 0.0000, 0.0000, 0.0000],\n",
              "        [0.0176, 0.2689, 0.0215, 0.0089, 0.6812, 0.0019, 0.0000, 0.0000],\n",
              "        [0.1691, 0.4066, 0.0438, 0.0416, 0.1048, 0.2012, 0.0329, 0.0000],\n",
              "        [0.0210, 0.0843, 0.0555, 0.2297, 0.0573, 0.0709, 0.2423, 0.2391]],\n",
              "       grad_fn=<SelectBackward0>)"
            ]
          },
          "metadata": {},
          "execution_count": 25
        }
      ]
    },
    {
      "cell_type": "markdown",
      "source": [
        "Notes:\n",
        "- Attention is a **communication mechanism**. Can be seen as nodes in a directed graph looking at each other and aggregating information with a weighted sum from all nodes that point to them, with data-dependent weights.\n",
        "- There is no notion of space. Attention simply acts over a set of vectors. This is why we need to positionally encode tokens.\n",
        "- Each example across batch dimension is of course processed completely independently and never \"talk\" to each other\n",
        "- In an \"encoder\" attention block just delete the single line that does masking with `tril`, allowing all tokens to communicate. This block here is called a \"decoder\" attention block because it has triangular masking, and is usually used in autoregressive settings, like language modeling.\n",
        "- \"self-attention\" just means that the keys and values are produced from the same source as queries. In \"cross-attention\", the queries still get produced from x, but the keys and values come from some other, external source (e.g. an encoder module)\n",
        "- \"Scaled\" attention additional divides `wei` by 1/sqrt(head_size). This makes it so when input Q,K are unit variance, wei will be unit variance too and Softmax will stay diffuse and not saturate too much. Illustration below"
      ],
      "metadata": {
        "id": "M5CvobiQ0pLr"
      }
    },
    {
      "cell_type": "code",
      "source": [
        "k = torch.randn(B,T,head_size)\n",
        "q = torch.randn(B,T,head_size)\n",
        "wei = q @ k.transpose(-2, -1) * head_size**-0.5"
      ],
      "metadata": {
        "id": "4SNbLq5z3oBw"
      },
      "execution_count": null,
      "outputs": []
    },
    {
      "cell_type": "code",
      "source": [
        "k.var()"
      ],
      "metadata": {
        "colab": {
          "base_uri": "https://localhost:8080/"
        },
        "id": "Nl6I9n9IRTSo",
        "outputId": "06c26fd7-c8d2-408d-ce18-0d4f2d93a5e8"
      },
      "execution_count": null,
      "outputs": [
        {
          "output_type": "execute_result",
          "data": {
            "text/plain": [
              "tensor(1.0449)"
            ]
          },
          "metadata": {},
          "execution_count": 27
        }
      ]
    },
    {
      "cell_type": "code",
      "source": [
        "q.var()"
      ],
      "metadata": {
        "colab": {
          "base_uri": "https://localhost:8080/"
        },
        "id": "T1tQx7oeRvtc",
        "outputId": "70765f3d-e513-4c62-ae1b-3e2acf10790b"
      },
      "execution_count": null,
      "outputs": [
        {
          "output_type": "execute_result",
          "data": {
            "text/plain": [
              "tensor(1.0700)"
            ]
          },
          "metadata": {},
          "execution_count": 28
        }
      ]
    },
    {
      "cell_type": "code",
      "source": [
        "wei.var()"
      ],
      "metadata": {
        "colab": {
          "base_uri": "https://localhost:8080/"
        },
        "id": "MLb_odHU3iKM",
        "outputId": "dc991a0c-c0ab-4976-ed84-61956d089e53"
      },
      "execution_count": null,
      "outputs": [
        {
          "output_type": "execute_result",
          "data": {
            "text/plain": [
              "tensor(1.0918)"
            ]
          },
          "metadata": {},
          "execution_count": 29
        }
      ]
    },
    {
      "cell_type": "code",
      "source": [
        "torch.softmax(torch.tensor([0.1, -0.2, 0.3, -0.2, 0.5]), dim=-1)"
      ],
      "metadata": {
        "colab": {
          "base_uri": "https://localhost:8080/"
        },
        "id": "JB82yzt44REI",
        "outputId": "8ced4388-b4f5-41ec-af8a-da830a2aa138"
      },
      "execution_count": null,
      "outputs": [
        {
          "output_type": "execute_result",
          "data": {
            "text/plain": [
              "tensor([0.1925, 0.1426, 0.2351, 0.1426, 0.2872])"
            ]
          },
          "metadata": {},
          "execution_count": 30
        }
      ]
    },
    {
      "cell_type": "code",
      "source": [
        "torch.softmax(torch.tensor([0.1, -0.2, 0.3, -0.2, 0.5])*8, dim=-1) # gets too peaky, converges to one-hot"
      ],
      "metadata": {
        "colab": {
          "base_uri": "https://localhost:8080/"
        },
        "id": "Mpt8569BB9_f",
        "outputId": "098b2256-5a35-4e07-e4f6-e84e3617672f"
      },
      "execution_count": null,
      "outputs": [
        {
          "output_type": "execute_result",
          "data": {
            "text/plain": [
              "tensor([0.0326, 0.0030, 0.1615, 0.0030, 0.8000])"
            ]
          },
          "metadata": {},
          "execution_count": 31
        }
      ]
    },
    {
      "cell_type": "code",
      "source": [
        "x[:,0].mean(), x[:,0].std() # mean,std of one feature across all batch inputs"
      ],
      "metadata": {
        "colab": {
          "base_uri": "https://localhost:8080/"
        },
        "id": "633T2cmnW1uk",
        "outputId": "2fa7a825-46be-4549-e419-33916cf4308c"
      },
      "execution_count": null,
      "outputs": [
        {
          "output_type": "execute_result",
          "data": {
            "text/plain": [
              "(tensor(-0.1431), tensor(1.0705))"
            ]
          },
          "metadata": {},
          "execution_count": 32
        }
      ]
    },
    {
      "cell_type": "code",
      "source": [
        "x[0,:].mean(), x[0,:].std() # mean,std of a single input from the batch, of its features"
      ],
      "metadata": {
        "colab": {
          "base_uri": "https://localhost:8080/"
        },
        "id": "LN9cK9BoXCYb",
        "outputId": "447a00bc-fda9-4042-cd78-0e17131130e8"
      },
      "execution_count": null,
      "outputs": [
        {
          "output_type": "execute_result",
          "data": {
            "text/plain": [
              "(tensor(0.0073), tensor(1.0177))"
            ]
          },
          "metadata": {},
          "execution_count": 33
        }
      ]
    },
    {
      "cell_type": "markdown",
      "source": [
        "## Transformer\n",
        "\n",
        "You may want to refer directly to [the git repo](https://github.com/karpathy/ng-video-lecture) instead though."
      ],
      "metadata": {
        "id": "ZcvKeBXoZFOY"
      }
    },
    {
      "cell_type": "code",
      "source": [
        "import torch\n",
        "import torch.nn as nn\n",
        "from torch.nn import functional as F\n",
        "\n",
        "# hyperparameters\n",
        "batch_size = 16 # how many independent sequences will we process in parallel?\n",
        "block_size = 32 # what is the maximum context length for predictions?\n",
        "max_iters = 5000\n",
        "eval_interval = 100\n",
        "learning_rate = 1e-3\n",
        "device = 'cuda' if torch.cuda.is_available() else 'cpu'\n",
        "eval_iters = 200\n",
        "n_embd = 64\n",
        "n_head = 4\n",
        "n_layer = 4\n",
        "dropout = 0.0\n",
        "# ------------\n",
        "\n",
        "# for saving the model\n",
        "import os, json\n",
        "SAVE_DIR = \"./final_model\"\n",
        "MODEL_PATH = os.path.join(SAVE_DIR, \"model_final.pt\")\n",
        "META_PATH = os.path.join(SAVE_DIR, \"meta.json\")\n",
        "os.makedirs(SAVE_DIR, exist_ok=True)\n",
        "\n",
        "torch.manual_seed(1337)\n",
        "\n",
        "# wget https://raw.githubusercontent.com/karpathy/char-rnn/master/data/tinyshakespeare/input.txt\n",
        "with open('text.txt', 'r', encoding='utf-8') as f:\n",
        "    text = f.read()\n",
        "\n",
        "# here are all the unique characters that occur in this text\n",
        "chars = sorted(list(set(text)))\n",
        "vocab_size = len(chars)\n",
        "# create a mapping from characters to integers\n",
        "stoi = { ch:i for i,ch in enumerate(chars) }\n",
        "itos = { i:ch for i,ch in enumerate(chars) }\n",
        "encode = lambda s: [stoi[c] for c in s] # encoder: take a string, output a list of integers\n",
        "decode = lambda l: ''.join([itos[i] for i in l]) # decoder: take a list of integers, output a string\n",
        "\n",
        "# Train and test splits\n",
        "data = torch.tensor(encode(text), dtype=torch.long)\n",
        "n = int(0.9*len(data)) # first 90% will be train, rest val\n",
        "train_data = data[:n]\n",
        "val_data = data[n:]\n",
        "\n",
        "# data loading\n",
        "def get_batch(split):\n",
        "    # generate a small batch of data of inputs x and targets y\n",
        "    data = train_data if split == 'train' else val_data\n",
        "    ix = torch.randint(len(data) - block_size, (batch_size,))\n",
        "    x = torch.stack([data[i:i+block_size] for i in ix])\n",
        "    y = torch.stack([data[i+1:i+block_size+1] for i in ix])\n",
        "    x, y = x.to(device), y.to(device)\n",
        "    return x, y\n",
        "\n",
        "@torch.no_grad()\n",
        "def estimate_loss():\n",
        "    out = {}\n",
        "    model.eval()\n",
        "    for split in ['train', 'val']:\n",
        "        losses = torch.zeros(eval_iters)\n",
        "        for k in range(eval_iters):\n",
        "            X, Y = get_batch(split)\n",
        "            logits, loss = model(X, Y)\n",
        "            losses[k] = loss.item()\n",
        "        out[split] = losses.mean()\n",
        "    model.train()\n",
        "    return out\n",
        "\n",
        "class Head(nn.Module):\n",
        "    \"\"\" one head of self-attention \"\"\"\n",
        "\n",
        "    def __init__(self, head_size):\n",
        "        super().__init__()\n",
        "        self.key = nn.Linear(n_embd, head_size, bias=False)\n",
        "        self.query = nn.Linear(n_embd, head_size, bias=False)\n",
        "        self.value = nn.Linear(n_embd, head_size, bias=False)\n",
        "        self.register_buffer('tril', torch.tril(torch.ones(block_size, block_size)))\n",
        "\n",
        "        self.dropout = nn.Dropout(dropout)\n",
        "\n",
        "    def forward(self, x):\n",
        "        B,T,C = x.shape\n",
        "        k = self.key(x)   # (B,T,C)\n",
        "        q = self.query(x) # (B,T,C)\n",
        "        # compute attention scores (\"affinities\")\n",
        "        wei = q @ k.transpose(-2,-1) * C**-0.5 # (B, T, C) @ (B, C, T) -> (B, T, T)\n",
        "        wei = wei.masked_fill(self.tril[:T, :T] == 0, float('-inf')) # (B, T, T)\n",
        "        wei = F.softmax(wei, dim=-1) # (B, T, T)\n",
        "        wei = self.dropout(wei)\n",
        "        # perform the weighted aggregation of the values\n",
        "        v = self.value(x) # (B,T,C)\n",
        "        out = wei @ v # (B, T, T) @ (B, T, C) -> (B, T, C)\n",
        "        return out\n",
        "\n",
        "class MultiHeadAttention(nn.Module):\n",
        "    \"\"\" multiple heads of self-attention in parallel \"\"\"\n",
        "\n",
        "    def __init__(self, num_heads, head_size):\n",
        "        super().__init__()\n",
        "        self.heads = nn.ModuleList([Head(head_size) for _ in range(num_heads)])\n",
        "        self.proj = nn.Linear(n_embd, n_embd)\n",
        "        self.dropout = nn.Dropout(dropout)\n",
        "\n",
        "    def forward(self, x):\n",
        "        out = torch.cat([h(x) for h in self.heads], dim=-1)\n",
        "        out = self.dropout(self.proj(out))\n",
        "        return out\n",
        "\n",
        "class FeedFoward(nn.Module):\n",
        "    \"\"\" a simple linear layer followed by a non-linearity \"\"\"\n",
        "\n",
        "    def __init__(self, n_embd):\n",
        "        super().__init__()\n",
        "        self.net = nn.Sequential(\n",
        "            nn.Linear(n_embd, 4 * n_embd),\n",
        "            nn.ReLU(),\n",
        "            nn.Linear(4 * n_embd, n_embd),\n",
        "            nn.Dropout(dropout),\n",
        "        )\n",
        "\n",
        "    def forward(self, x):\n",
        "        return self.net(x)\n",
        "\n",
        "class Block(nn.Module):\n",
        "    \"\"\" Transformer block: communication followed by computation \"\"\"\n",
        "\n",
        "    def __init__(self, n_embd, n_head):\n",
        "        # n_embd: embedding dimension, n_head: the number of heads we'd like\n",
        "        super().__init__()\n",
        "        head_size = n_embd // n_head\n",
        "        self.sa = MultiHeadAttention(n_head, head_size)\n",
        "        self.ffwd = FeedFoward(n_embd)\n",
        "        self.ln1 = nn.LayerNorm(n_embd)\n",
        "        self.ln2 = nn.LayerNorm(n_embd)\n",
        "\n",
        "    def forward(self, x):\n",
        "        x = x + self.sa(self.ln1(x))\n",
        "        x = x + self.ffwd(self.ln2(x))\n",
        "        return x\n",
        "\n",
        "# super simple bigram model\n",
        "class BigramLanguageModel(nn.Module):\n",
        "\n",
        "    def __init__(self):\n",
        "        super().__init__()\n",
        "        # each token directly reads off the logits for the next token from a lookup table\n",
        "        self.token_embedding_table = nn.Embedding(vocab_size, n_embd)\n",
        "        self.position_embedding_table = nn.Embedding(block_size, n_embd)\n",
        "        self.blocks = nn.Sequential(*[Block(n_embd, n_head=n_head) for _ in range(n_layer)])\n",
        "        self.ln_f = nn.LayerNorm(n_embd) # final layer norm\n",
        "        self.lm_head = nn.Linear(n_embd, vocab_size)\n",
        "\n",
        "    def forward(self, idx, targets=None):\n",
        "        B, T = idx.shape\n",
        "\n",
        "        # idx and targets are both (B,T) tensor of integers\n",
        "        tok_emb = self.token_embedding_table(idx) # (B,T,C)\n",
        "        pos_emb = self.position_embedding_table(torch.arange(T, device=device)) # (T,C)\n",
        "        x = tok_emb + pos_emb # (B,T,C)\n",
        "        x = self.blocks(x) # (B,T,C)\n",
        "        x = self.ln_f(x) # (B,T,C)\n",
        "        logits = self.lm_head(x) # (B,T,vocab_size)\n",
        "\n",
        "        if targets is None:\n",
        "            loss = None\n",
        "        else:\n",
        "            B, T, C = logits.shape\n",
        "            logits = logits.view(B*T, C)\n",
        "            targets = targets.view(B*T)\n",
        "            loss = F.cross_entropy(logits, targets)\n",
        "\n",
        "        return logits, loss\n",
        "\n",
        "    def generate(self, idx, max_new_tokens):\n",
        "        # idx is (B, T) array of indices in the current context\n",
        "        for _ in range(max_new_tokens):\n",
        "            # crop idx to the last block_size tokens\n",
        "            idx_cond = idx[:, -block_size:]\n",
        "            # get the predictions\n",
        "            logits, loss = self(idx_cond)\n",
        "            # focus only on the last time step\n",
        "            logits = logits[:, -1, :] # becomes (B, C)\n",
        "            # apply softmax to get probabilities\n",
        "            probs = F.softmax(logits, dim=-1) # (B, C)\n",
        "            # sample from the distribution\n",
        "            idx_next = torch.multinomial(probs, num_samples=1) # (B, 1)\n",
        "            # append sampled index to the running sequence\n",
        "            idx = torch.cat((idx, idx_next), dim=1) # (B, T+1)\n",
        "        return idx\n",
        "\n",
        "model = BigramLanguageModel()\n",
        "m = model.to(device)\n",
        "# print the number of parameters in the model\n",
        "print(sum(p.numel() for p in m.parameters())/1e6, 'M parameters')\n",
        "\n",
        "# create a PyTorch optimizer\n",
        "optimizer = torch.optim.AdamW(model.parameters(), lr=learning_rate)\n",
        "\n",
        "for iter in range(max_iters):\n",
        "\n",
        "    # every once in a while evaluate the loss on train and val sets\n",
        "    if iter % eval_interval == 0 or iter == max_iters - 1:\n",
        "        losses = estimate_loss()\n",
        "        print(f\"step {iter}: train loss {losses['train']:.4f}, val loss {losses['val']:.4f}\")\n",
        "\n",
        "    # sample a batch of data\n",
        "    xb, yb = get_batch('train')\n",
        "\n",
        "    # evaluate the loss\n",
        "    logits, loss = model(xb, yb)\n",
        "    optimizer.zero_grad(set_to_none=True)\n",
        "    loss.backward()\n",
        "    optimizer.step()\n",
        "\n",
        "# generate from the model\n",
        "context = torch.zeros((1, 1), dtype=torch.long, device=device)\n",
        "print(decode(m.generate(context, max_new_tokens=2000)[0].tolist()))\n"
      ],
      "metadata": {
        "colab": {
          "base_uri": "https://localhost:8080/"
        },
        "id": "hoelkOrFY8bN",
        "outputId": "b73a34de-1b80-4907-dace-77d8bd2f1673"
      },
      "execution_count": null,
      "outputs": [
        {
          "output_type": "stream",
          "name": "stdout",
          "text": [
            "0.223532 M parameters\n",
            "step 0: train loss 5.2808, val loss 5.2835\n",
            "step 100: train loss 3.1335, val loss 3.2065\n",
            "step 200: train loss 2.8728, val loss 2.9553\n",
            "step 300: train loss 2.7775, val loss 2.8718\n",
            "step 400: train loss 2.7073, val loss 2.8306\n",
            "step 500: train loss 2.6480, val loss 2.7971\n",
            "step 600: train loss 2.5477, val loss 2.7204\n",
            "step 700: train loss 2.4768, val loss 2.6545\n",
            "step 800: train loss 2.4008, val loss 2.5925\n",
            "step 900: train loss 2.3468, val loss 2.5555\n",
            "step 1000: train loss 2.2578, val loss 2.4985\n",
            "step 1100: train loss 2.2149, val loss 2.4715\n",
            "step 1200: train loss 2.1641, val loss 2.4408\n",
            "step 1300: train loss 2.1189, val loss 2.4178\n",
            "step 1400: train loss 2.0786, val loss 2.3466\n",
            "step 1500: train loss 2.0214, val loss 2.3037\n",
            "step 1600: train loss 2.0032, val loss 2.2818\n",
            "step 1700: train loss 1.9866, val loss 2.2838\n",
            "step 1800: train loss 1.9492, val loss 2.2379\n",
            "step 1900: train loss 1.9382, val loss 2.2173\n",
            "step 2000: train loss 1.9235, val loss 2.2068\n",
            "step 2100: train loss 1.8705, val loss 2.1916\n",
            "step 2200: train loss 1.8681, val loss 2.1830\n",
            "step 2300: train loss 1.8499, val loss 2.1502\n",
            "step 2400: train loss 1.8482, val loss 2.1432\n",
            "step 2500: train loss 1.8336, val loss 2.1254\n",
            "step 2600: train loss 1.8152, val loss 2.1190\n",
            "step 2700: train loss 1.7925, val loss 2.0978\n",
            "step 2800: train loss 1.7887, val loss 2.0895\n",
            "step 2900: train loss 1.7802, val loss 2.0756\n",
            "step 3000: train loss 1.7784, val loss 2.0697\n",
            "step 3100: train loss 1.7599, val loss 2.0707\n",
            "step 3200: train loss 1.7532, val loss 2.0761\n",
            "step 3300: train loss 1.7536, val loss 2.0549\n",
            "step 3400: train loss 1.7563, val loss 2.0493\n",
            "step 3500: train loss 1.7383, val loss 2.0332\n",
            "step 3600: train loss 1.7370, val loss 2.0264\n",
            "step 3700: train loss 1.7136, val loss 2.0311\n",
            "step 3800: train loss 1.7086, val loss 2.0425\n",
            "step 3900: train loss 1.7026, val loss 2.0396\n",
            "step 4000: train loss 1.6995, val loss 2.0293\n",
            "step 4100: train loss 1.6947, val loss 2.0052\n",
            "step 4200: train loss 1.6967, val loss 2.0164\n",
            "step 4300: train loss 1.6810, val loss 1.9801\n",
            "step 4400: train loss 1.6820, val loss 2.0066\n",
            "step 4500: train loss 1.6842, val loss 1.9879\n",
            "step 4600: train loss 1.6714, val loss 1.9819\n",
            "step 4700: train loss 1.6685, val loss 1.9764\n",
            "step 4800: train loss 1.6671, val loss 1.9680\n",
            "step 4900: train loss 1.6602, val loss 1.9780\n",
            "step 4999: train loss 1.6549, val loss 1.9792\n",
            "\n",
            "1\n",
            "1 2 2\n",
            "trechá arvého vrticku v prieme a druhýšia dostávam\n",
            "žisem\n",
            "Pokrmálneto v rovine ako a F,~c a Mimaximicime vypočítadem\n",
            "sa\n",
            "n\n",
            "apr\n",
            "ýa vzľahľadom s a na tretie čísla 3. Počítame 645 List 3\n",
            "A C0 DE V trochoky.\n",
            "JKTc To z obračných hodnoty rôkonvergule, že a c) pripsečnúch\n",
            "podmocnina priamer priamke.\n",
            "Ž: Vyvaleraly 1\n",
            "v r+B ležio zložite funkcie f správne f(brokou preváchom koro funkcien za čísla n n nepriadenmie\n",
            "m2.\n",
            "U: Ak priaden: Stgeimulámi,\n",
            "rovnicou.\n",
            "Ž: Preto je to je kladnic prosledná o uhlesíka kolmý priamok, vzorca a v = .\n",
            "V\n",
            "3 6 2 2\n",
            "cotgx +2 f\n",
            "oborúte smerov.\n",
            "U: Vyjadreniem také som\n",
            "ukútých. Nekoncid:\n",
            "(cid:18)\n",
            "2\n",
            "33\n",
            "cos58\n",
            "U: Mačímiem:\n",
            "17y = 0,\n",
            "x ak ∈ (4k 1).\n",
            "Keboezniky. Povedľajme, preto, možnotó nie:\n",
            "(cid:15)\n",
            "3 x−2\n",
            "4 −615−2 +15\n",
            "−5 0 0 x by mysom teda grafe.\n",
            "Ž: Pokrádnani priade, čísli 4 , f(x) a posledná máme 40,5 7 5 2\n",
            "1\n",
            "b)~v S\n",
            "bodom čísla 8: 12.\n",
            "4cosx 0\n",
            "Preto body funkcie každ priadoblúciou.\n",
            "Ž: Pyriešeníme sú ležitýchlosti z rovnicu.\n",
            "y =\n",
            "Ž: Khodnoty čom jerými nečo, o-\n",
            "cou každá funkcie:\n",
            "a) r = 8 a −3x.\n",
            "2\n",
            "Ž: Výborne. To spoločné, ak mocnotnoty prvú sa rovne.\n",
            "Ž:\n",
            "U: Ak akrityzonili. To aj rovnosť. Priemer a rovinu(cid:12)\n",
            "K a a\n",
            "~n = 3, ADA[2;7].\n",
            "U: Ide ten mi oby sú hodnotu\n",
            "rovnice nasledky sínusom hliku nad rovnicu\n",
            "2a = 0 d −→ 5,\n",
            "o z o namr a vy6razy k roviny a ležia úlohočň v iach privok: BytoAg; a a .\n",
            "n n 6\n",
            "3 9\n",
            "Ž: Pre smero--\n",
            "lipsym.\n",
            "2\n",
            "Ž: Vyriešiť zrechľadiť vyznačíme krokým počitujnú reálne číselnej obsahký vvetVa vyhovíš priad cm. Vzniknicem túchoehopny a a leží od jednu riadenieme sa tredov, ak hodnoty vyvalky, teda sú rovna, dostávame\n",
            "π 1\n",
            "Pokúvnačrtny\n",
            "a = m\n",
            "funkcie f predstave prienice parametrovým\n",
            "vytrochlopší takže kružnice koncenštrojuholník\n",
            "4\n",
            "U: Preto by tým vyznačenie mom som súradnice povedá už vzdialenosti ,B druhá vykazoromax: To táto. Má súradnice, ak exvideš? Tie skrán.\n",
            "JKPo×n leží dosadianím a dvojky\n",
            "operu vektory a premer číslo.\n",
            "V kažkoch inde ktorom.\n",
            "(cid:17)8(cid:18)\n",
            "Ž: Priadenie tak a ~n~n = (x+1) = 2·(−sim−1)2 −3y = −3+(y ;1) −k = −2+ \n",
            "a a \n"
          ]
        }
      ]
    },
    {
      "cell_type": "code",
      "source": [
        "def save_meta():\n",
        "    meta = {\n",
        "        \"block_size\": block_size,\n",
        "        \"n_embd\": n_embd,\n",
        "        \"n_head\": n_head,\n",
        "        \"n_layer\": n_layer,\n",
        "        \"dropout\": dropout,\n",
        "        \"chars\": chars,             # to rebuild vocab exactly\n",
        "    }\n",
        "    with open(META_PATH, \"w\", encoding=\"utf-8\") as f:\n",
        "        json.dump(meta, f, ensure_ascii=False, indent=2)\n",
        "\n",
        "save_meta()\n",
        "torch.save(model.state_dict(), MODEL_PATH)\n",
        "print(f\"Saved final model to {MODEL_PATH} and meta to {META_PATH}\")"
      ],
      "metadata": {
        "id": "gkAB-4mexCsN",
        "outputId": "64a7dc3a-07b7-4073-ba1c-20f266a0d9a3",
        "colab": {
          "base_uri": "https://localhost:8080/"
        }
      },
      "execution_count": null,
      "outputs": [
        {
          "output_type": "stream",
          "name": "stdout",
          "text": [
            "Saved final model to ./final_model/model_final.pt and meta to ./final_model/meta.json\n"
          ]
        }
      ]
    },
    {
      "cell_type": "markdown",
      "source": [
        "## Using the saved model\n",
        "\n",
        "The following code recreates the model and reads saved weights."
      ],
      "metadata": {
        "id": "dU8hW7JiyGjI"
      }
    },
    {
      "cell_type": "code",
      "source": [
        "# - Assumes you trained & saved with:\n",
        "#   - MODEL:  ./final_model/model_final.pt\n",
        "#   - META:   ./final_model/meta.json\n",
        "\n",
        "import torch\n",
        "import torch.nn as nn\n",
        "from torch.nn import functional as F\n",
        "import os, json\n",
        "\n",
        "SAVE_DIR = \"./final_model\"\n",
        "MODEL_PATH = os.path.join(SAVE_DIR, \"model_final.pt\")\n",
        "META_PATH = os.path.join(SAVE_DIR, \"meta.json\")\n",
        "\n",
        "device = 'cuda' if torch.cuda.is_available() else 'cpu'\n",
        "\n",
        "if not (os.path.exists(MODEL_PATH) and os.path.exists(META_PATH)):\n",
        "    raise FileNotFoundError(f\"Missing model or meta file in {SAVE_DIR}\")\n",
        "\n",
        "with open(META_PATH, \"r\", encoding=\"utf-8\") as f:\n",
        "    meta = json.load(f)\n",
        "\n",
        "block_size = meta[\"block_size\"]\n",
        "n_embd     = meta[\"n_embd\"]\n",
        "n_head     = meta[\"n_head\"]\n",
        "n_layer    = meta[\"n_layer\"]\n",
        "dropout    = meta[\"dropout\"]\n",
        "chars      = meta[\"chars\"]\n",
        "\n",
        "vocab_size = len(chars)\n",
        "stoi = {ch: i for i, ch in enumerate(chars)}\n",
        "itos = {i: ch for i, ch in enumerate(chars)}\n",
        "encode = lambda s: [stoi[c] for c in s]\n",
        "decode = lambda l: \"\".join([itos[i] for i in l])\n",
        "\n",
        "# ---------- model definition ----------\n",
        "class Head(nn.Module):\n",
        "    def __init__(self, head_size):\n",
        "        super().__init__()\n",
        "        self.key   = nn.Linear(n_embd, head_size, bias=False)\n",
        "        self.query = nn.Linear(n_embd, head_size, bias=False)\n",
        "        self.value = nn.Linear(n_embd, head_size, bias=False)\n",
        "        self.register_buffer(\"tril\", torch.tril(torch.ones(block_size, block_size)))\n",
        "        self.dropout = nn.Dropout(dropout)\n",
        "\n",
        "    def forward(self, x):\n",
        "        B, T, C = x.shape\n",
        "        k = self.key(x)\n",
        "        q = self.query(x)\n",
        "        wei = q @ k.transpose(-2, -1) * C**-0.5\n",
        "        wei = wei.masked_fill(self.tril[:T, :T] == 0, float(\"-inf\"))\n",
        "        wei = F.softmax(wei, dim=-1)\n",
        "        wei = self.dropout(wei)\n",
        "        v = self.value(x)\n",
        "        out = wei @ v\n",
        "        return out\n",
        "\n",
        "class MultiHeadAttention(nn.Module):\n",
        "    def __init__(self, num_heads, head_size):\n",
        "        super().__init__()\n",
        "        self.heads = nn.ModuleList([Head(head_size) for _ in range(num_heads)])\n",
        "        self.proj = nn.Linear(n_embd, n_embd)\n",
        "        self.dropout = nn.Dropout(dropout)\n",
        "    def forward(self, x):\n",
        "        out = torch.cat([h(x) for h in self.heads], dim=-1)\n",
        "        out = self.dropout(self.proj(out))\n",
        "        return out\n",
        "\n",
        "class FeedFoward(nn.Module):\n",
        "    def __init__(self, n_embd_):\n",
        "        super().__init__()\n",
        "        self.net = nn.Sequential(\n",
        "            nn.Linear(n_embd_, 4 * n_embd_),\n",
        "            nn.ReLU(),\n",
        "            nn.Linear(4 * n_embd_, n_embd_),\n",
        "            nn.Dropout(dropout),\n",
        "        )\n",
        "    def forward(self, x):\n",
        "        return self.net(x)\n",
        "\n",
        "class Block(nn.Module):\n",
        "    def __init__(self, n_embd_, n_head_):\n",
        "        super().__init__()\n",
        "        head_size = n_embd_ // n_head_\n",
        "        self.sa = MultiHeadAttention(n_head_, head_size)\n",
        "        self.ffwd = FeedFoward(n_embd_)\n",
        "        self.ln1 = nn.LayerNorm(n_embd_)\n",
        "        self.ln2 = nn.LayerNorm(n_embd_)\n",
        "    def forward(self, x):\n",
        "        x = x + self.sa(self.ln1(x))\n",
        "        x = x + self.ffwd(self.ln2(x))\n",
        "        return x\n",
        "\n",
        "class BigramLanguageModel(nn.Module):\n",
        "    def __init__(self):\n",
        "        super().__init__()\n",
        "        self.token_embedding_table = nn.Embedding(vocab_size, n_embd)\n",
        "        self.position_embedding_table = nn.Embedding(block_size, n_embd)\n",
        "        self.blocks = nn.Sequential(*[Block(n_embd, n_head) for _ in range(n_layer)])\n",
        "        self.ln_f = nn.LayerNorm(n_embd)\n",
        "        self.lm_head = nn.Linear(n_embd, vocab_size)\n",
        "\n",
        "    def forward(self, idx, targets=None):\n",
        "        B, T = idx.shape\n",
        "        tok_emb = self.token_embedding_table(idx)\n",
        "        pos_emb = self.position_embedding_table(torch.arange(T, device=idx.device))\n",
        "        x = tok_emb + pos_emb\n",
        "        x = self.blocks(x)\n",
        "        x = self.ln_f(x)\n",
        "        logits = self.lm_head(x)\n",
        "        loss = None\n",
        "        if targets is not None:\n",
        "            B, T, C = logits.shape\n",
        "            loss = F.cross_entropy(logits.view(B*T, C), targets.view(B*T))\n",
        "        return logits, loss\n",
        "\n",
        "    @torch.no_grad()\n",
        "    def generate(self, idx, max_new_tokens):\n",
        "        for _ in range(max_new_tokens):\n",
        "            idx_cond = idx[:, -block_size:]\n",
        "            logits, _ = self(idx_cond)\n",
        "            logits = logits[:, -1, :]\n",
        "            probs = F.softmax(logits, dim=-1)\n",
        "            idx_next = torch.multinomial(probs, num_samples=1)\n",
        "            idx = torch.cat((idx, idx_next), dim=1)\n",
        "        return idx\n",
        "\n",
        "# ---------- load weights ----------\n",
        "model = BigramLanguageModel().to(device)\n",
        "state = torch.load(MODEL_PATH, map_location=device)\n",
        "model.load_state_dict(state)\n",
        "model.eval()\n",
        "\n",
        "# ---------- generate ----------\n",
        "seed_text = \"\"  # you can add a prompt here if you want\n",
        "if seed_text:\n",
        "    for c in seed_text:\n",
        "        if c not in stoi:\n",
        "            raise ValueError(f\"Out-of-vocab char in seed: {repr(c)}\")\n",
        "    start = torch.tensor([encode(seed_text)], dtype=torch.long, device=device)\n",
        "else:\n",
        "    start = torch.zeros((1, 1), dtype=torch.long, device=device)\n",
        "\n",
        "generated = model.generate(start, max_new_tokens=500)[0].tolist()\n",
        "print(decode(generated))"
      ],
      "metadata": {
        "id": "fjjvMifYZf7x",
        "outputId": "81b69349-cc1e-4d33-9b31-080af1b5d3d5",
        "colab": {
          "base_uri": "https://localhost:8080/"
        }
      },
      "execution_count": null,
      "outputs": [
        {
          "output_type": "stream",
          "name": "stdout",
          "text": [
            "\n",
            "(−2)−2 = −6−1 −y) = −y |C| +c2 = −2.\n",
            "Ž: To vej elená kladné nimie nemajú rovna číslu .\n",
            "2\n",
            "Z x\n",
            "Ž: To nauž jednotkla k trovnice ich priamerok.\n",
            "VoFu25-0\n",
            "len grafe.\n",
            "U: Na mým čísla 30 mocnite to, ale prvý\n",
            "čletci −10 0 x\n",
            "x\n",
            "= 2\n",
            "3\n",
            "U: Dostaneme ten riešiesťú strane sa rozumieme v ele tiež grafejšie.\n",
            "U: Sť mínus, cmim ale o x\n",
            "Vypočítať prípade, že stačne obor druhe, y si  jednom je o streho vrcholomku R a reálzoklastúca, že len by a a tretie (x −1)?\n",
            "Ž: Potiem a , nie, o je priadení.\n",
            "Ž: To anko „každol by \n"
          ]
        }
      ]
    },
    {
      "cell_type": "code",
      "source": [],
      "metadata": {
        "id": "gQL4HgIgzFtd"
      },
      "execution_count": null,
      "outputs": []
    }
  ]
}