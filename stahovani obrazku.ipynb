{
 "cells": [
  {
   "cell_type": "code",
   "execution_count": 48,
   "id": "e5163436-fcca-4ae4-8eaf-6755790380e5",
   "metadata": {},
   "outputs": [
    {
     "name": "stdout",
     "output_type": "stream",
     "text": [
      "Requirement already satisfied: duckduckgo_search in c:\\users\\lucie\\appdata\\local\\programs\\python\\python311\\lib\\site-packages (8.1.1)\n",
      "Requirement already satisfied: click>=8.1.8 in c:\\users\\lucie\\appdata\\local\\programs\\python\\python311\\lib\\site-packages (from duckduckgo_search) (8.3.0)\n",
      "Requirement already satisfied: primp>=0.15.0 in c:\\users\\lucie\\appdata\\local\\programs\\python\\python311\\lib\\site-packages (from duckduckgo_search) (0.15.0)\n",
      "Requirement already satisfied: lxml>=5.3.0 in c:\\users\\lucie\\appdata\\local\\programs\\python\\python311\\lib\\site-packages (from duckduckgo_search) (6.0.2)\n",
      "Requirement already satisfied: colorama in c:\\users\\lucie\\appdata\\local\\programs\\python\\python311\\lib\\site-packages (from click>=8.1.8->duckduckgo_search) (0.4.6)\n"
     ]
    },
    {
     "name": "stderr",
     "output_type": "stream",
     "text": [
      "\n",
      "[notice] A new release of pip available: 22.3.1 -> 25.2\n",
      "[notice] To update, run: python.exe -m pip install --upgrade pip\n"
     ]
    }
   ],
   "source": [
    "# run only once\n",
    "!pip install duckduckgo_search"
   ]
  },
  {
   "cell_type": "markdown",
   "id": "c1dabf75",
   "metadata": {},
   "source": [
    "## How to search for images"
   ]
  },
  {
   "cell_type": "code",
   "execution_count": 49,
   "id": "d8a87803-eb5a-4e72-9724-e86b268b1a7b",
   "metadata": {},
   "outputs": [],
   "source": [
    "def search_images_multi(keywords, per_keyword=100, max_total=300, verbose=True):\n",
    "    \"\"\"\n",
    "    Vyhledá obrázky pro více klíčových slov, ale nepřekročí max_total.\n",
    "    \n",
    "    keywords: list[str] - seznam klíčových slov\n",
    "    per_keyword: int - max obrázků na jedno slovo\n",
    "    max_total: int - maximální celkový počet obrázků\n",
    "    verbose: bool - pokud True, vypíše průběžné info\n",
    "    \n",
    "    return: list[str] - seznam URL obrázků\n",
    "    \"\"\"\n",
    "    all_urls = []\n",
    "    for word in keywords:\n",
    "        if len(all_urls) >= max_total:\n",
    "            break  # už máme dost\n",
    "        urls = search_images(word, per_keyword)\n",
    "        \n",
    "        # kolik ještě můžeme přidat, aby nebyl překročen limit\n",
    "        space_left = max_total - len(all_urls)\n",
    "        urls = urls[:space_left]\n",
    "        \n",
    "        all_urls.extend(urls)\n",
    "        \n",
    "        if verbose:\n",
    "            print(f\"'{word}': přidáno {len(urls)} obrázků (celkem {len(all_urls)})\")\n",
    "    \n",
    "    # odstraníme duplicity\n",
    "    all_urls = list(set(all_urls))\n",
    "    \n",
    "    if verbose:\n",
    "        print(f\"Celkem {len(all_urls)} unikátních obrázků (limit {max_total})\")\n",
    "    \n",
    "    return all_urls\n",
    "\n"
   ]
  },
  {
   "cell_type": "markdown",
   "id": "e486a04c",
   "metadata": {},
   "source": [
    "**Example:**\n",
    "\n",
    "Note we got less images than we asked for."
   ]
  },
  {
   "cell_type": "code",
   "execution_count": 50,
   "id": "77f11575-f03b-4a7f-9144-6e11cc5347df",
   "metadata": {},
   "outputs": [
    {
     "name": "stdout",
     "output_type": "stream",
     "text": [
      "'car': přidáno 100 obrázků (celkem 100)\n",
      "'sports car': přidáno 100 obrázků (celkem 200)\n",
      "Celkem 198 unikátních obrázků (limit 200)\n"
     ]
    },
    {
     "data": {
      "text/plain": [
       "198"
      ]
     },
     "execution_count": 50,
     "metadata": {},
     "output_type": "execute_result"
    }
   ],
   "source": [
    "keywords = [\"car\", \"sports car\", \"sedan\", \"suv\",\n",
    "        \"race car\", \"truck\"]\n",
    "#\"car\", \"sports car\", \"sedan\", \"suv\", \"race car\", \"truck\"\n",
    "# \"fish\" = [\"fish\", \"goldfish\", \"salmon\", \"trout\",\"tuna\", \"catfish\", \"bass\"]\n",
    "# \"flower\": \"flower\", \"rose\", \"sunflower\", \"tulip\",\"orchid\", \"daisy\", \"lotus flower\", \"lavender flower\"\n",
    "# \"bird\": \"bird\", \"parrot\", \"sparrow\", \"eagle\", \"owl\", \"seagull\", \"robin\"\n",
    "image_urls = search_images_multi(\n",
    "    keywords, \n",
    "    per_keyword=100, \n",
    "    max_total=200\n",
    ")\n",
    "\n",
    "len(image_urls)\n",
    "\n"
   ]
  },
  {
   "cell_type": "code",
   "execution_count": null,
   "id": "4b7d140d",
   "metadata": {},
   "outputs": [],
   "source": []
  },
  {
   "cell_type": "markdown",
   "id": "52daecb0",
   "metadata": {},
   "source": [
    "Let us take a random image and look at it:"
   ]
  },
  {
   "cell_type": "code",
   "execution_count": 51,
   "id": "01aaa328-6d23-4792-976a-e379ad047afe",
   "metadata": {},
   "outputs": [
    {
     "data": {
      "text/plain": [
       "'https://dailycarblog.com/wp-content/uploads/2014/11/Vauxhall-Corsa-2015.jpg'"
      ]
     },
     "execution_count": 51,
     "metadata": {},
     "output_type": "execute_result"
    }
   ],
   "source": [
    "image_urls[6]"
   ]
  },
  {
   "cell_type": "markdown",
   "id": "3eca2401",
   "metadata": {},
   "source": [
    "## How to download images"
   ]
  },
  {
   "cell_type": "code",
   "execution_count": 52,
   "id": "c95ce62e-2194-48ff-b7db-d15c335fcbeb",
   "metadata": {},
   "outputs": [],
   "source": [
    "import os\n",
    "import requests\n",
    "from urllib.parse import urlparse\n",
    "import warnings\n",
    "\n",
    "def download_image(url, folder, custom_name=None, verbose=True):\n",
    "    # Create the folder if it doesn't exist\n",
    "    os.makedirs(folder, exist_ok=True)\n",
    "\n",
    "    # Get the filename from the URL or use the custom name\n",
    "    if custom_name:\n",
    "        filename = custom_name\n",
    "    else:\n",
    "        filename = os.path.basename(urlparse(url).path)\n",
    "        if not filename:\n",
    "            filename = 'image.jpg'  # Default filename if none is found in the URL\n",
    "\n",
    "    # Ensure the filename has an extension\n",
    "    if not os.path.splitext(filename)[1]:\n",
    "        filename += '.jpg'\n",
    "\n",
    "    filepath = os.path.join(folder, filename)\n",
    "\n",
    "    # If the file already exists, append a number to make it unique\n",
    "    base, extension = os.path.splitext(filepath)\n",
    "    counter = 1\n",
    "    while os.path.exists(filepath):\n",
    "        filepath = f\"{base}_{counter}{extension}\"\n",
    "        counter += 1\n",
    "\n",
    "    try:\n",
    "        # Send a GET request to the URL with a timeout of 10 seconds\n",
    "        response = requests.get(url, timeout=10)\n",
    "        response.raise_for_status()  # Raises an HTTPError for bad responses\n",
    "\n",
    "        # Check if the content type is an image\n",
    "        content_type = response.headers.get('content-type', '')\n",
    "        if not content_type.startswith('image'):\n",
    "            if verbose:\n",
    "                warnings.warn(f\"The URL does not point to an image. Content-Type: {content_type}\")\n",
    "            return False\n",
    "\n",
    "        # Write the image content to the file\n",
    "        with open(filepath, 'wb') as f:\n",
    "            f.write(response.content)\n",
    "\n",
    "        if verbose:\n",
    "            print(f\"Image successfully downloaded: {filepath}\")\n",
    "        return True\n",
    "\n",
    "    except requests.exceptions.Timeout:\n",
    "        if verbose: \n",
    "            warnings.warn(f\"Download timed out for URL: {url}\")\n",
    "    except requests.exceptions.HTTPError as e:\n",
    "        if verbose: \n",
    "            warnings.warn(f\"HTTP error occurred: {e}\")\n",
    "    except requests.exceptions.RequestException as e:\n",
    "        if verbose: \n",
    "            warnings.warn(f\"An error occurred while downloading the image: {e}\")\n",
    "    except IOError as e:\n",
    "        if verbose: \n",
    "            warnings.warn(f\"An error occurred while writing the file: {e}\")\n",
    "\n",
    "    return False"
   ]
  },
  {
   "cell_type": "markdown",
   "id": "0387ac4b",
   "metadata": {},
   "source": [
    "Let us donwload all cactus into separate folder."
   ]
  },
  {
   "cell_type": "code",
   "execution_count": 53,
   "id": "91e85251-0074-4c49-9118-03c754a02805",
   "metadata": {},
   "outputs": [
    {
     "data": {
      "application/vnd.jupyter.widget-view+json": {
       "model_id": "5afa261567364dd2a52a8f8cd8dd7166",
       "version_major": 2,
       "version_minor": 0
      },
      "text/plain": [
       "  0%|          | 0/198 [00:00<?, ?it/s]"
      ]
     },
     "metadata": {},
     "output_type": "display_data"
    }
   ],
   "source": [
    "from tqdm.notebook import tqdm\n",
    "\n",
    "for i, url in enumerate(tqdm(image_urls)):\n",
    "    download_image(url, \"./DataSet/car/\", f'image{i}.jpg', verbose=False)"
   ]
  },
  {
   "cell_type": "markdown",
   "id": "39f30d48",
   "metadata": {},
   "source": [
    "## How to resize all images to 28x28"
   ]
  },
  {
   "cell_type": "code",
   "execution_count": 54,
   "id": "707ed085-6536-489a-a4f5-5625407d0a02",
   "metadata": {},
   "outputs": [],
   "source": [
    "# ...\n",
    "from torchvision import datasets, transforms\n",
    "# ...\n",
    "\n",
    "# Data transformations\n",
    "transform = transforms.Compose([\n",
    "    transforms.Resize((28, 28)),\n",
    "    transforms.ToTensor(),\n",
    "])\n",
    "\n",
    "# Load the dataset\n",
    "dataset = datasets.ImageFolder(root='./dataset', transform=transform)"
   ]
  },
  {
   "cell_type": "markdown",
   "id": "7b64d60b",
   "metadata": {},
   "source": [
    "Do not forget the images are RGB, not greyscale as FashionMNIST. Therefore, they will have **three** channels on input, not one."
   ]
  },
  {
   "cell_type": "code",
   "execution_count": 55,
   "id": "97924280",
   "metadata": {},
   "outputs": [],
   "source": [
    "import torch.nn as nn  # Ensure the nn module is imported\n",
    "\n",
    "# Define the simple CNN\n",
    "class SimpleCNN(nn.Module):\n",
    "    def __init__(self):\n",
    "        super(SimpleCNN, self).__init__()\n",
    "        # input channels = 3 (RGB), output channels = 16\n",
    "        self.conv1 = nn.Conv2d(3, 16, kernel_size=3, padding=1)\n",
    "        # ..."
   ]
  },
  {
   "cell_type": "markdown",
   "id": "197f9661",
   "metadata": {},
   "source": []
  }
 ],
 "metadata": {
  "kernelspec": {
   "display_name": "Python 3",
   "language": "python",
   "name": "python3"
  },
  "language_info": {
   "codemirror_mode": {
    "name": "ipython",
    "version": 3
   },
   "file_extension": ".py",
   "mimetype": "text/x-python",
   "name": "python",
   "nbconvert_exporter": "python",
   "pygments_lexer": "ipython3",
   "version": "3.11.2"
  }
 },
 "nbformat": 4,
 "nbformat_minor": 5
}
