{
  "cells": [
    {
      "cell_type": "markdown",
      "metadata": {
        "id": "view-in-github",
        "colab_type": "text"
      },
      "source": [
        "<a href=\"https://colab.research.google.com/github/oskarklima/M7DataSP/blob/main/uloha6.ipynb\" target=\"_parent\"><img src=\"https://colab.research.google.com/assets/colab-badge.svg\" alt=\"Open In Colab\"/></a>"
      ]
    },
    {
      "cell_type": "code",
      "execution_count": null,
      "id": "9a03517c",
      "metadata": {
        "id": "9a03517c"
      },
      "outputs": [],
      "source": [
        "# # v notebooku použij %pip (magic) pro instalace do aktuálního kernelu\n",
        "# %pip install --upgrade pip\n",
        "# %pip install -U tiktoken tqdm\n",
        "\n",
        "# # Pokud máte GPU s CUDA 11.8 (jen pokud je to kompatibilní):\n",
        "# %pip install torch torchvision torchaudio --index-url https://download.pytorch.org/whl/cu118\n",
        "\n",
        "# Nebo CPU-only (odkomentujte místo předchozího řádku, pokud nemáte kompatibilní CUDA):\n",
        "# %pip install torch torchvision torchaudio --index-url https://download.pytorch.org/whl/cpu\n",
        "\n",
        "# Po instalaci: Kernel -> Restart (pokud je třeba)"
      ]
    },
    {
      "cell_type": "code",
      "execution_count": null,
      "id": "7c1ffdf9",
      "metadata": {
        "id": "7c1ffdf9"
      },
      "outputs": [],
      "source": [
        "# Instalace potřebných knihoven\n",
        "# %pip install requests"
      ]
    },
    {
      "cell_type": "code",
      "execution_count": 1,
      "id": "3861e53b",
      "metadata": {
        "colab": {
          "base_uri": "https://localhost:8080/"
        },
        "id": "3861e53b",
        "outputId": "f73ce77c-1001-4895-d4e1-ab289aea4c42"
      },
      "outputs": [
        {
          "output_type": "stream",
          "name": "stdout",
          "text": [
            "Text úspěšně stažen, délka: 2470653 znaků\n",
            "\n",
            "Ukázka začátku textu:\n",
            "RNDr. Viera Vodičková\n",
            "U: O kružnici si už určite počul.\n",
            "Ž: Samozrejme. S kružnicou sa stretávame všade. Je to také „koliesko. A teraz vážne. Kruž-\n",
            "nica je daná stredom a polomerom. A všetky body na kr ...\n"
          ]
        }
      ],
      "source": [
        "from pathlib import Path\n",
        "import requests\n",
        "import os\n",
        "\n",
        "\n",
        "# URL k textovým datům - použijeme raw GitHub content\n",
        "url = \"https://raw.githubusercontent.com/oskarklima/M7DataSP/main/textdata/text_clean.txt\"\n",
        "\n",
        "# Stažení textu\n",
        "try:\n",
        "    response = requests.get(url)\n",
        "    response.encoding = 'utf-8'  # Zajistíme správné kódování\n",
        "    if response.status_code == 200:\n",
        "        text = response.text\n",
        "        print(f\"Text úspěšně stažen, délka: {len(text)} znaků\")\n",
        "\n",
        "        # Pro kontrolu vypíšeme prvních 200 znaků\n",
        "        print(\"\\nUkázka začátku textu:\")\n",
        "        print(text[:200], \"...\")\n",
        "    else:\n",
        "        print(f\"Chyba při stahování: {response.status_code}\")\n",
        "        text = \"\"\n",
        "except Exception as e:\n",
        "    print(f\"Chyba při stahování: {e}\")\n",
        "    text = \"\""
      ]
    },
    {
      "cell_type": "code",
      "execution_count": 2,
      "id": "16b05032",
      "metadata": {
        "colab": {
          "base_uri": "https://localhost:8080/"
        },
        "id": "16b05032",
        "outputId": "e1d04288-cd2a-4bef-f7a3-05fb0001b705"
      },
      "outputs": [
        {
          "output_type": "stream",
          "name": "stdout",
          "text": [
            "Počet tokenů: 1392050\n",
            "Tokens saved to: training_temp/tokens.npy\n",
            "Vypočtené vocab_size z dat: 50229\n"
          ]
        }
      ],
      "source": [
        "import tiktoken\n",
        "import numpy as np\n",
        "\n",
        "data_dir = Path(\"./training_temp\")\n",
        "os.makedirs(data_dir, exist_ok=True)\n",
        "\n",
        "# použij GPT-2 encoding (kompatibilní s tiktoken + Karpathy style)\n",
        "enc = tiktoken.get_encoding(\"gpt2\")\n",
        "\n",
        "# tokenizuj (pro velké korpusy může chvíli trvat)\n",
        "tokens = enc.encode(text)\n",
        "tokens = np.array(tokens, dtype=np.int32)\n",
        "print(\"Počet tokenů:\", tokens.shape[0])\n",
        "\n",
        "# ulož tokeny pro rychlejší opětovné spuštění\n",
        "np.save(data_dir / \"tokens.npy\", tokens)\n",
        "print(\"Tokens saved to:\", data_dir / \"tokens.npy\")\n",
        "\n",
        "# bezpečný způsob získat slovník (vocab) -- použiju velikost z dat\n",
        "vocab_size = int(tokens.max()) + 1\n",
        "print(\"Vypočtené vocab_size z dat:\", vocab_size)\n",
        "# Pozn: pokud chceš přímo nastavit GPT-2 slovník, jeho velikost je 50257.\n"
      ]
    },
    {
      "cell_type": "code",
      "execution_count": 3,
      "id": "d64bf8db",
      "metadata": {
        "colab": {
          "base_uri": "https://localhost:8080/"
        },
        "id": "d64bf8db",
        "outputId": "2e9e60a5-4204-442e-aa10-064d293becdd"
      },
      "outputs": [
        {
          "output_type": "stream",
          "name": "stdout",
          "text": [
            "Train tokens: 1252845 Val tokens: 139205\n"
          ]
        }
      ],
      "source": [
        "import numpy as np\n",
        "import torch\n",
        "\n",
        "tokens = np.load(data_dir / \"tokens.npy\")\n",
        "n = len(tokens)\n",
        "split = int(0.9 * n)\n",
        "train_tokens = tokens[:split]\n",
        "val_tokens   = tokens[split:]\n",
        "\n",
        "block_size = 128  # můžeš zvýšit na 256/512 pokud máš paměť\n",
        "def get_batch(arr, batch_size=16, block_size=128, device='cpu'):\n",
        "    ix = np.random.randint(0, len(arr) - block_size, (batch_size,))\n",
        "    x = np.stack([arr[i:i+block_size] for i in ix])\n",
        "    y = np.stack([arr[i+1:i+1+block_size] for i in ix])\n",
        "    x = torch.tensor(x, dtype=torch.long, device=device)\n",
        "    y = torch.tensor(y, dtype=torch.long, device=device)\n",
        "    return x, y\n",
        "\n",
        "print(\"Train tokens:\", len(train_tokens), \"Val tokens:\", len(val_tokens))\n"
      ]
    },
    {
      "cell_type": "code",
      "execution_count": 4,
      "id": "2008bf10",
      "metadata": {
        "id": "2008bf10"
      },
      "outputs": [],
      "source": [
        "import torch.nn as nn\n",
        "import math\n",
        "\n",
        "class CausalSelfAttention(nn.Module):\n",
        "    def __init__(self, n_embed, n_head, dropout, max_T=1024):\n",
        "        super().__init__()\n",
        "        assert n_embed % n_head == 0\n",
        "        self.n_head = n_head\n",
        "        self.head_dim = n_embed // n_head\n",
        "        self.qkv = nn.Linear(n_embed, 3 * n_embed)\n",
        "        self.proj = nn.Linear(n_embed, n_embed)\n",
        "        self.dropout = nn.Dropout(dropout)\n",
        "        # mask buffer (max_T × max_T)\n",
        "        mask = torch.tril(torch.ones(max_T, max_T)).unsqueeze(0).unsqueeze(0)\n",
        "        self.register_buffer(\"mask\", mask)\n",
        "\n",
        "    def forward(self, x):\n",
        "        B, T, C = x.size()\n",
        "        qkv = self.qkv(x).view(B, T, 3, self.n_head, self.head_dim).permute(2,0,3,1,4)\n",
        "        q, k, v = qkv[0], qkv[1], qkv[2]\n",
        "        att = (q @ k.transpose(-2,-1)) / math.sqrt(self.head_dim)\n",
        "        att = att.masked_fill(self.mask[:, :, :T, :T] == 0, float('-inf'))\n",
        "        att = torch.softmax(att, dim=-1)\n",
        "        att = self.dropout(att)\n",
        "        y = att @ v\n",
        "        y = y.transpose(2,1).contiguous().view(B, T, C)\n",
        "        y = self.proj(y)\n",
        "        y = self.dropout(y)\n",
        "        return y\n",
        "\n",
        "class Block(nn.Module):\n",
        "    def __init__(self, n_embed, n_head, dropout):\n",
        "        super().__init__()\n",
        "        self.ln1 = nn.LayerNorm(n_embed)\n",
        "        self.attn = CausalSelfAttention(n_embed, n_head, dropout)\n",
        "        self.ln2 = nn.LayerNorm(n_embed)\n",
        "        self.mlp = nn.Sequential(\n",
        "            nn.Linear(n_embed, 4 * n_embed),\n",
        "            nn.GELU(),\n",
        "            nn.Linear(4 * n_embed, n_embed),\n",
        "            nn.Dropout(dropout),\n",
        "        )\n",
        "    def forward(self, x):\n",
        "        x = x + self.attn(self.ln1(x))\n",
        "        x = x + self.mlp(self.ln2(x))\n",
        "        return x\n",
        "\n",
        "class SimpleGPT(nn.Module):\n",
        "    def __init__(self, vocab_size, n_embed=256, n_layer=6, n_head=8, block_size=128, dropout=0.1):\n",
        "        super().__init__()\n",
        "        self.tok_emb = nn.Embedding(vocab_size, n_embed)\n",
        "        self.pos_emb = nn.Embedding(block_size, n_embed)\n",
        "        self.drop = nn.Dropout(dropout)\n",
        "        self.blocks = nn.ModuleList([Block(n_embed, n_head, dropout) for _ in range(n_layer)])\n",
        "        self.ln_f = nn.LayerNorm(n_embed)\n",
        "        self.head = nn.Linear(n_embed, vocab_size, bias=False)\n",
        "        self.block_size = block_size\n",
        "        self.apply(self._init_weights)\n",
        "\n",
        "    def _init_weights(self, module):\n",
        "        if isinstance(module, (nn.Linear, nn.Embedding)):\n",
        "            nn.init.normal_(module.weight, mean=0.0, std=0.02)\n",
        "        if isinstance(module, nn.Linear) and module.bias is not None:\n",
        "            nn.init.zeros_(module.bias)\n",
        "        if isinstance(module, nn.LayerNorm):\n",
        "            nn.init.ones_(module.weight)\n",
        "            nn.init.zeros_(module.bias)\n",
        "\n",
        "    def forward(self, idx, targets=None):\n",
        "        b, t = idx.size()\n",
        "        assert t <= self.block_size\n",
        "        tok = self.tok_emb(idx)\n",
        "        pos = self.pos_emb(torch.arange(t, device=idx.device))[None,:,:]\n",
        "        x = self.drop(tok + pos)\n",
        "        for block in self.blocks:\n",
        "            x = block(x)\n",
        "        x = self.ln_f(x)\n",
        "        logits = self.head(x)\n",
        "        if targets is None:\n",
        "            return logits\n",
        "        loss = nn.functional.cross_entropy(logits.view(-1, logits.size(-1)), targets.view(-1))\n",
        "        return logits, loss\n"
      ]
    },
    {
      "cell_type": "code",
      "execution_count": 5,
      "id": "40044ad0",
      "metadata": {
        "colab": {
          "base_uri": "https://localhost:8080/"
        },
        "id": "40044ad0",
        "outputId": "0366463b-f0a2-447e-8337-89ba21a251ff"
      },
      "outputs": [
        {
          "output_type": "stream",
          "name": "stdout",
          "text": [
            "Device: cuda\n",
            "Vocab size from data: 50229\n",
            "Epoch 0 iter 0 loss 10.8824\n",
            "Epoch 0 iter 20 loss 8.0725\n",
            "Epoch 0 iter 40 loss 6.1919\n",
            "Epoch 0 iter 60 loss 5.1801\n",
            "Epoch 0 iter 80 loss 4.7371\n",
            "Epoch 0 iter 100 loss 4.3294\n",
            "Epoch 0 iter 120 loss 4.1718\n",
            "Epoch 0 iter 140 loss 3.9928\n",
            "Epoch 0 iter 160 loss 3.7952\n",
            "Epoch 0 iter 180 loss 3.7028\n",
            "=== Epoch 0 VAL loss: 3.9064 ===\n",
            "Saved checkpoint for epoch 0\n",
            "Epoch 1 iter 0 loss 3.5319\n",
            "Epoch 1 iter 20 loss 3.4481\n",
            "Epoch 1 iter 40 loss 3.5895\n",
            "Epoch 1 iter 60 loss 3.4246\n",
            "Epoch 1 iter 80 loss 3.1980\n",
            "Epoch 1 iter 100 loss 3.2823\n",
            "Epoch 1 iter 120 loss 3.2465\n",
            "Epoch 1 iter 140 loss 3.1890\n",
            "Epoch 1 iter 160 loss 3.2100\n",
            "Epoch 1 iter 180 loss 3.0467\n",
            "=== Epoch 1 VAL loss: 3.6229 ===\n",
            "Saved checkpoint for epoch 1\n",
            "Epoch 2 iter 0 loss 3.1989\n",
            "Epoch 2 iter 20 loss 3.0826\n",
            "Epoch 2 iter 40 loss 3.0535\n",
            "Epoch 2 iter 60 loss 3.0709\n",
            "Epoch 2 iter 80 loss 2.8014\n",
            "Epoch 2 iter 100 loss 3.0188\n",
            "Epoch 2 iter 120 loss 2.7699\n",
            "Epoch 2 iter 140 loss 2.8784\n",
            "Epoch 2 iter 160 loss 2.7793\n",
            "Epoch 2 iter 180 loss 2.7503\n",
            "=== Epoch 2 VAL loss: 3.1808 ===\n",
            "Saved checkpoint for epoch 2\n"
          ]
        }
      ],
      "source": [
        "import torch.optim as optim\n",
        "device = 'cuda' if torch.cuda.is_available() else 'cpu'\n",
        "print(\"Device:\", device)\n",
        "\n",
        "# z tokenů získáme slovník\n",
        "tokens = np.load(data_dir / \"tokens.npy\")\n",
        "vocab_size = int(tokens.max()) + 1  # bezpečné\n",
        "print(\"Vocab size from data:\", vocab_size)\n",
        "\n",
        "model = SimpleGPT(\n",
        "    vocab_size = max(vocab_size, 50257),  # alespoň GPT-2 base; pokud chceš prostě 50257, změň\n",
        "    n_embed = 256,    # zmenši pokud nemáš paměť: 128\n",
        "    n_layer = 4,      # malý model: 2-6\n",
        "    n_head = 8,\n",
        "    block_size = block_size,\n",
        "    dropout = 0.1\n",
        ").to(device)\n",
        "\n",
        "optimizer = optim.AdamW(model.parameters(), lr=3e-4, weight_decay=0.1)\n",
        "\n",
        "# trénink (lehké nastavení pro rychlé experimenty)\n",
        "epochs = 3\n",
        "batch_size = 32\n",
        "\n",
        "for epoch in range(epochs):\n",
        "    model.train()\n",
        "    # když máš velký dataset, iteruj přes pevný počet kroků\n",
        "    iters_per_epoch = 200\n",
        "    for it in range(iters_per_epoch):\n",
        "        xb, yb = get_batch(train_tokens, batch_size=batch_size, block_size=block_size, device=device)\n",
        "        logits, loss = model(xb, yb)\n",
        "        optimizer.zero_grad()\n",
        "        loss.backward()\n",
        "        torch.nn.utils.clip_grad_norm_(model.parameters(), 1.0)\n",
        "        optimizer.step()\n",
        "        if it % 20 == 0:\n",
        "            print(f\"Epoch {epoch} iter {it} loss {loss.item():.4f}\")\n",
        "    # validace\n",
        "    model.eval()\n",
        "    with torch.no_grad():\n",
        "        xb, yb = get_batch(val_tokens, batch_size=64, block_size=block_size, device=device)\n",
        "        _, val_loss = model(xb, yb)\n",
        "        print(f\"=== Epoch {epoch} VAL loss: {val_loss.item():.4f} ===\")\n",
        "    torch.save(model.state_dict(), data_dir / f\"gpt_checkpoint_epoch{epoch}.pth\")\n",
        "    print(\"Saved checkpoint for epoch\", epoch)\n"
      ]
    },
    {
      "cell_type": "code",
      "execution_count": 10,
      "id": "218cd5da",
      "metadata": {
        "colab": {
          "base_uri": "https://localhost:8080/"
        },
        "id": "218cd5da",
        "outputId": "088de8be-6d48-41a6-cd9f-5330ba4349e8"
      },
      "outputs": [
        {
          "output_type": "stream",
          "name": "stdout",
          "text": [
            "=== GENERATED ===\n",
            "\n",
            "\n",
            "Ž: Takže čo predpis\n",
            "U: Ako všetky tak.\n",
            "U: To je prípade západoch.\n",
            "Ž: To kružnice, že aj zísať\n",
            "x = x = 2x, x. Tak vzorca mám vyjadriť:\n",
            "3 + 2+b = π = π 2π = 2 + 2s = −1 n−2x−3)3 = 4·2 = 3, 2 3.\n",
            "Ž: Použím výrazov a vňou rastúca ako konečnej vedná sínus.\n",
            "U: Dobre. A čísla 3, takže grafové čísla x\n",
            "Ž: Pri čísla π. Zopakujeme, že vtedy smej ďalšiu súvisí. číslo 0, takže nie je návne tak je uká rovná má a jednodnote nie je pravej obor vyjadriť.\n",
            "ý: Takže nazývadratickej roviny. Pripočítam zložím v konštantný k čísla\n",
            "sledné číslo .\n",
            "U: Správne. Teda funkciou y = cotangens je. Výsledok sú kvadrante.\n",
            "je takýchto výraz na oborí.\n",
            "Ž: No je už množina sa nekosti. Aké Čo je teda súradnice\n",
            "ným ľký. Súradnícia je konvergentná?\n",
            "U: Súčiatočné. Nie je to bude mať rovnobežné.\n",
            "Ž: Nulovým vyzerá súčet, čo ktoré súčinu,\n",
            "b = a +d = 2· = 12·(n−2·1·2) = 0. Dostali sme vyjadrenie vlastnosti:\n",
            "b = 2.\n",
            "U: Vyjadri si to vyjadrenie roviny v každých čísel teda mám vektorom.\n",
            "Ž: Dobre. Zre: Nie je prípade všetky číslo je nule.\n",
            "U: úlohlohej záporné, ako nie je zadrante je to niej vypočísel.\n",
            "Doužili si to na výraz výrazom 6 3·x = − = 2· 8·(−3−2, z + 2, a = 2 + 2+1 = (3−1)−2 · 2·1·4 = 2·4.\n",
            "\n",
            "Ž: Od číslo 1, teda číslom x, ďalšia funkcie je tým v priestore?\n",
            "Dosínus je najprv zlomku vzorec preto:\n",
            "7 = 4+14−1.\n",
            "U: Prečo je číslo 8 vidám číslo 1. H = 3, 5 2 3 3 3.\n",
            "Ž: Opäť dokáš sa mi teda väť na zistiť?\n",
            "Ž: Aha! Tak si použijem vyjadriť použiť?\n",
            "U: Dobre. Najpríklad\n",
            "Ž: Dobre. Však rovnicu súčin aj konštantná aj zapícich hodnoty do nazvej\n",
            "vyšné dvojku. Ktorý poĺžky čísla 2. H = 7. Ale napríklad 2, ktorých nám poleží, ak je nie je:\n",
            "a }∞ je nevyšn\n"
          ]
        }
      ],
      "source": [
        "import torch.nn.functional as F\n",
        "\n",
        "@torch.no_grad()\n",
        "def generate(model, idx, max_new_tokens=200, temperature=1.0, top_k=None):\n",
        "    model.eval()\n",
        "    for _ in range(max_new_tokens):\n",
        "        idx_cond = idx[:, -model.block_size:]\n",
        "        logits = model(idx_cond)  # (B, T, V)\n",
        "        logits = logits[:, -1, :] / (temperature if temperature>0 else 1.0)\n",
        "        if top_k is not None:\n",
        "            v, _ = torch.topk(logits, top_k)\n",
        "            minv = v[:, -1].unsqueeze(1)\n",
        "            logits = torch.where(logits < minv, torch.full_like(logits, -1e10), logits)\n",
        "        probs = F.softmax(logits, dim=-1)\n",
        "        next_token = torch.multinomial(probs, num_samples=1)\n",
        "        idx = torch.cat((idx, next_token), dim=1)\n",
        "    return idx\n",
        "\n",
        "# příklad — načti checkpoint (pokud potřebuješ)\n",
        "# model.load_state_dict(torch.load(data_dir / \"gpt_checkpoint_epoch2.pth\", map_location=device))\n",
        "\n",
        "prompt = \"\\n\"\n",
        "prompt_tokens = enc.encode(prompt)\n",
        "x = torch.tensor([prompt_tokens], dtype=torch.long, device=device)\n",
        "out = generate(model, x, max_new_tokens=1000, temperature=0.8, top_k=40)\n",
        "generated = enc.decode(out[0].cpu().tolist())\n",
        "print(\"=== GENERATED ===\\n\")\n",
        "print(generated)\n"
      ]
    }
  ],
  "metadata": {
    "kernelspec": {
      "display_name": "Python 3",
      "name": "python3"
    },
    "language_info": {
      "codemirror_mode": {
        "name": "ipython",
        "version": 3
      },
      "file_extension": ".py",
      "mimetype": "text/x-python",
      "name": "python",
      "nbconvert_exporter": "python",
      "pygments_lexer": "ipython3",
      "version": "3.11.2"
    },
    "colab": {
      "provenance": [],
      "gpuType": "T4",
      "include_colab_link": true
    },
    "accelerator": "GPU"
  },
  "nbformat": 4,
  "nbformat_minor": 5
}